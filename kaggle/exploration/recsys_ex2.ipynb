{
 "cells": [
  {
   "cell_type": "markdown",
   "metadata": {},
   "source": [
    "<img src=\"data:image/png;base64,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\" style='float:right; width:200px; margin: 0 20px;'>\n",
    "\n",
    "# Taboola CTR Value-For-Money Prediction\n",
    "---\n",
    "\n",
    "> Catboost, xgboost basline\n",
    "\n",
    "> some fully connected network"
   ]
  },
  {
   "cell_type": "code",
   "execution_count": 2,
   "metadata": {},
   "outputs": [],
   "source": [
    "from collections import Counter\n",
    "import pandas as pd\n",
    "import logging"
   ]
  },
  {
   "cell_type": "markdown",
   "metadata": {},
   "source": [
    "## Data"
   ]
  },
  {
   "cell_type": "code",
   "execution_count": 39,
   "metadata": {},
   "outputs": [],
   "source": [
    "sample = pd.read_csv('part-00002.csv')"
   ]
  },
  {
   "cell_type": "code",
   "execution_count": 40,
   "metadata": {},
   "outputs": [
    {
     "data": {
      "text/html": [
       "<div>\n",
       "<style scoped>\n",
       "    .dataframe tbody tr th:only-of-type {\n",
       "        vertical-align: middle;\n",
       "    }\n",
       "\n",
       "    .dataframe tbody tr th {\n",
       "        vertical-align: top;\n",
       "    }\n",
       "\n",
       "    .dataframe thead th {\n",
       "        text-align: right;\n",
       "    }\n",
       "</style>\n",
       "<table border=\"1\" class=\"dataframe\">\n",
       "  <thead>\n",
       "    <tr style=\"text-align: right;\">\n",
       "      <th></th>\n",
       "      <th>page_view_start_time</th>\n",
       "      <th>user_id_hash</th>\n",
       "      <th>target_id_hash</th>\n",
       "      <th>syndicator_id_hash</th>\n",
       "      <th>campaign_id_hash</th>\n",
       "      <th>empiric_calibrated_recs</th>\n",
       "      <th>empiric_clicks</th>\n",
       "      <th>target_item_taxonomy</th>\n",
       "      <th>placement_id_hash</th>\n",
       "      <th>user_recs</th>\n",
       "      <th>...</th>\n",
       "      <th>source_id_hash</th>\n",
       "      <th>source_item_type</th>\n",
       "      <th>browser_platform</th>\n",
       "      <th>os_family</th>\n",
       "      <th>country_code</th>\n",
       "      <th>region</th>\n",
       "      <th>day_of_week</th>\n",
       "      <th>time_of_day</th>\n",
       "      <th>gmt_offset</th>\n",
       "      <th>is_click</th>\n",
       "    </tr>\n",
       "  </thead>\n",
       "  <tbody>\n",
       "    <tr>\n",
       "      <th>0</th>\n",
       "      <td>1586972175040</td>\n",
       "      <td>cc720429312f18d7b2e4c113c6f48cef3d16836b7fdce0...</td>\n",
       "      <td>e47742764f99fbe66f06369af9557667a87acf3d7942a1...</td>\n",
       "      <td>f7fc333375dc274f0c94a23df0b3768404f87195742a6e...</td>\n",
       "      <td>8681b856166e1e7f002f6a2607a4e2ba35ec4d9ce9812e...</td>\n",
       "      <td>129.53584</td>\n",
       "      <td>930.0</td>\n",
       "      <td>LIFE~TRAVEL</td>\n",
       "      <td>251974fe3b996b3c952690db23c62aa3698a99e46ee022...</td>\n",
       "      <td>1051.0</td>\n",
       "      <td>...</td>\n",
       "      <td>acefa4deefb13b8d19cbe262528f5c3532bc7f0363e4c3...</td>\n",
       "      <td>text</td>\n",
       "      <td>DESK</td>\n",
       "      <td>6</td>\n",
       "      <td>US</td>\n",
       "      <td>NH</td>\n",
       "      <td>3</td>\n",
       "      <td>13</td>\n",
       "      <td>-400</td>\n",
       "      <td>1.0</td>\n",
       "    </tr>\n",
       "    <tr>\n",
       "      <th>1</th>\n",
       "      <td>1586553332086</td>\n",
       "      <td>d8bc219c47b2570fea85d82b9df00973487e8ab1ca76e1...</td>\n",
       "      <td>cfbc031f0bacfa09f2a70a02c1024711d2e7ef205e9339...</td>\n",
       "      <td>888081c07a6adc27ad51bde46544a5fe2f803e8293e561...</td>\n",
       "      <td>7b4c9ccff73b03f8d6c41d8b2dd4d190f387081b7e5b2c...</td>\n",
       "      <td>357.14075</td>\n",
       "      <td>1286.0</td>\n",
       "      <td>LIFE~PETS</td>\n",
       "      <td>970f1987570a4ece129c056ddf4de53b1f43b0882ea65c...</td>\n",
       "      <td>1074.0</td>\n",
       "      <td>...</td>\n",
       "      <td>4c7987d659b97d2007c45bb3c9fd903b135a2ef18130f7...</td>\n",
       "      <td>homepage</td>\n",
       "      <td>DESK</td>\n",
       "      <td>6</td>\n",
       "      <td>US</td>\n",
       "      <td>NV</td>\n",
       "      <td>5</td>\n",
       "      <td>14</td>\n",
       "      <td>-700</td>\n",
       "      <td>0.0</td>\n",
       "    </tr>\n",
       "    <tr>\n",
       "      <th>2</th>\n",
       "      <td>1586231495787</td>\n",
       "      <td>ed8ddb92498f13f88101c13e0a26fdcc87db5d929c17d2...</td>\n",
       "      <td>c775af6de0b254897ec4d00d174e298a6d34dd6e2c104b...</td>\n",
       "      <td>100328dbbf569e6848665b2cd40823e7dde2175050d987...</td>\n",
       "      <td>6801569fe0d16817528745e61b4897202634ea9905a5f2...</td>\n",
       "      <td>298.30496</td>\n",
       "      <td>139.0</td>\n",
       "      <td>LIFE~HOME</td>\n",
       "      <td>3ce0dc6ef6be59d27da0a3ecbd2b5b28c88bf5e3a98bc9...</td>\n",
       "      <td>320.0</td>\n",
       "      <td>...</td>\n",
       "      <td>09bb81e4503b782e80b2c802ad08576f39f76cc4c466dd...</td>\n",
       "      <td>text</td>\n",
       "      <td>DESK</td>\n",
       "      <td>6</td>\n",
       "      <td>US</td>\n",
       "      <td>NY</td>\n",
       "      <td>1</td>\n",
       "      <td>23</td>\n",
       "      <td>-400</td>\n",
       "      <td>0.0</td>\n",
       "    </tr>\n",
       "    <tr>\n",
       "      <th>3</th>\n",
       "      <td>1586720067383</td>\n",
       "      <td>f2b6bcf14717b7148cb8f92cbcbecb3a9ff24607b0a5c9...</td>\n",
       "      <td>b62da02a3fc769b747ec9de5bc90d988646ef35ad39873...</td>\n",
       "      <td>778263b6cc984e65c497d16b7fec917c3230cbdcc56fa1...</td>\n",
       "      <td>e7b35c85695999bbcbfc4d10b932c5e8b6b52d5720237e...</td>\n",
       "      <td>50006.86300</td>\n",
       "      <td>64460.0</td>\n",
       "      <td>TECH</td>\n",
       "      <td>39d46cdd8f08693dd0cb967d016efec97d0bc5eb1899dc...</td>\n",
       "      <td>206.0</td>\n",
       "      <td>...</td>\n",
       "      <td>c83159630182a5b7bc3c3fc985156c03b2a43129d63376...</td>\n",
       "      <td>homepage</td>\n",
       "      <td>DESK</td>\n",
       "      <td>6</td>\n",
       "      <td>US</td>\n",
       "      <td>AR</td>\n",
       "      <td>0</td>\n",
       "      <td>14</td>\n",
       "      <td>-500</td>\n",
       "      <td>1.0</td>\n",
       "    </tr>\n",
       "    <tr>\n",
       "      <th>4</th>\n",
       "      <td>1586820341555</td>\n",
       "      <td>6ea6706128c562661fd6ec45ea2521a9f2837c8c9d5078...</td>\n",
       "      <td>a07a13aa1a83706186e4bf205ba79c614697284a059e08...</td>\n",
       "      <td>a517d24ada92fc973f1612bd27ce716ff506485868d441...</td>\n",
       "      <td>b8abf8828615be8732cbe1589fa2c8f4fd8cecb5bca791...</td>\n",
       "      <td>15547.64200</td>\n",
       "      <td>7094.0</td>\n",
       "      <td>LIFE~HEALTH</td>\n",
       "      <td>f46a38c5c8d89917121df61f7a725748354c47dfc79cfe...</td>\n",
       "      <td>0.0</td>\n",
       "      <td>...</td>\n",
       "      <td>c83159630182a5b7bc3c3fc985156c03b2a43129d63376...</td>\n",
       "      <td>homepage</td>\n",
       "      <td>DESK</td>\n",
       "      <td>6</td>\n",
       "      <td>US</td>\n",
       "      <td>GA</td>\n",
       "      <td>1</td>\n",
       "      <td>19</td>\n",
       "      <td>-400</td>\n",
       "      <td>0.0</td>\n",
       "    </tr>\n",
       "  </tbody>\n",
       "</table>\n",
       "<p>5 rows × 23 columns</p>\n",
       "</div>"
      ],
      "text/plain": [
       "   page_view_start_time                                       user_id_hash  \\\n",
       "0         1586972175040  cc720429312f18d7b2e4c113c6f48cef3d16836b7fdce0...   \n",
       "1         1586553332086  d8bc219c47b2570fea85d82b9df00973487e8ab1ca76e1...   \n",
       "2         1586231495787  ed8ddb92498f13f88101c13e0a26fdcc87db5d929c17d2...   \n",
       "3         1586720067383  f2b6bcf14717b7148cb8f92cbcbecb3a9ff24607b0a5c9...   \n",
       "4         1586820341555  6ea6706128c562661fd6ec45ea2521a9f2837c8c9d5078...   \n",
       "\n",
       "                                      target_id_hash  \\\n",
       "0  e47742764f99fbe66f06369af9557667a87acf3d7942a1...   \n",
       "1  cfbc031f0bacfa09f2a70a02c1024711d2e7ef205e9339...   \n",
       "2  c775af6de0b254897ec4d00d174e298a6d34dd6e2c104b...   \n",
       "3  b62da02a3fc769b747ec9de5bc90d988646ef35ad39873...   \n",
       "4  a07a13aa1a83706186e4bf205ba79c614697284a059e08...   \n",
       "\n",
       "                                  syndicator_id_hash  \\\n",
       "0  f7fc333375dc274f0c94a23df0b3768404f87195742a6e...   \n",
       "1  888081c07a6adc27ad51bde46544a5fe2f803e8293e561...   \n",
       "2  100328dbbf569e6848665b2cd40823e7dde2175050d987...   \n",
       "3  778263b6cc984e65c497d16b7fec917c3230cbdcc56fa1...   \n",
       "4  a517d24ada92fc973f1612bd27ce716ff506485868d441...   \n",
       "\n",
       "                                    campaign_id_hash  empiric_calibrated_recs  \\\n",
       "0  8681b856166e1e7f002f6a2607a4e2ba35ec4d9ce9812e...                129.53584   \n",
       "1  7b4c9ccff73b03f8d6c41d8b2dd4d190f387081b7e5b2c...                357.14075   \n",
       "2  6801569fe0d16817528745e61b4897202634ea9905a5f2...                298.30496   \n",
       "3  e7b35c85695999bbcbfc4d10b932c5e8b6b52d5720237e...              50006.86300   \n",
       "4  b8abf8828615be8732cbe1589fa2c8f4fd8cecb5bca791...              15547.64200   \n",
       "\n",
       "   empiric_clicks target_item_taxonomy  \\\n",
       "0           930.0          LIFE~TRAVEL   \n",
       "1          1286.0            LIFE~PETS   \n",
       "2           139.0            LIFE~HOME   \n",
       "3         64460.0                 TECH   \n",
       "4          7094.0          LIFE~HEALTH   \n",
       "\n",
       "                                   placement_id_hash  user_recs  ...  \\\n",
       "0  251974fe3b996b3c952690db23c62aa3698a99e46ee022...     1051.0  ...   \n",
       "1  970f1987570a4ece129c056ddf4de53b1f43b0882ea65c...     1074.0  ...   \n",
       "2  3ce0dc6ef6be59d27da0a3ecbd2b5b28c88bf5e3a98bc9...      320.0  ...   \n",
       "3  39d46cdd8f08693dd0cb967d016efec97d0bc5eb1899dc...      206.0  ...   \n",
       "4  f46a38c5c8d89917121df61f7a725748354c47dfc79cfe...        0.0  ...   \n",
       "\n",
       "                                      source_id_hash  source_item_type  \\\n",
       "0  acefa4deefb13b8d19cbe262528f5c3532bc7f0363e4c3...              text   \n",
       "1  4c7987d659b97d2007c45bb3c9fd903b135a2ef18130f7...          homepage   \n",
       "2  09bb81e4503b782e80b2c802ad08576f39f76cc4c466dd...              text   \n",
       "3  c83159630182a5b7bc3c3fc985156c03b2a43129d63376...          homepage   \n",
       "4  c83159630182a5b7bc3c3fc985156c03b2a43129d63376...          homepage   \n",
       "\n",
       "  browser_platform os_family country_code region  day_of_week time_of_day  \\\n",
       "0             DESK         6           US     NH            3          13   \n",
       "1             DESK         6           US     NV            5          14   \n",
       "2             DESK         6           US     NY            1          23   \n",
       "3             DESK         6           US     AR            0          14   \n",
       "4             DESK         6           US     GA            1          19   \n",
       "\n",
       "  gmt_offset  is_click  \n",
       "0       -400       1.0  \n",
       "1       -700       0.0  \n",
       "2       -400       0.0  \n",
       "3       -500       1.0  \n",
       "4       -400       0.0  \n",
       "\n",
       "[5 rows x 23 columns]"
      ]
     },
     "execution_count": 40,
     "metadata": {},
     "output_type": "execute_result"
    }
   ],
   "source": [
    "sample.head()"
   ]
  },
  {
   "cell_type": "markdown",
   "metadata": {},
   "source": [
    "### Features\n",
    "* user statistics instead of user id\n",
    "* target statistics instead of target\n",
    "* syndicator statistics instead of syndicator\n",
    "* campaign statistics instead of campaign_id_hash\n",
    "* empiric_calibrated_recs?\n",
    "* empiric_clicks?\n",
    "* target_item_taxonomy - ohe\n",
    "..\n"
   ]
  },
  {
   "cell_type": "markdown",
   "metadata": {},
   "source": [
    "### Steps\n",
    "* Catboost\n",
    "* Fully connected network"
   ]
  },
  {
   "cell_type": "markdown",
   "metadata": {},
   "source": [
    "# EDA"
   ]
  },
  {
   "cell_type": "code",
   "execution_count": 41,
   "metadata": {},
   "outputs": [
    {
     "data": {
      "text/plain": [
       "Index(['page_view_start_time', 'user_id_hash', 'target_id_hash',\n",
       "       'syndicator_id_hash', 'campaign_id_hash', 'empiric_calibrated_recs',\n",
       "       'empiric_clicks', 'target_item_taxonomy', 'placement_id_hash',\n",
       "       'user_recs', 'user_clicks', 'user_target_recs', 'publisher_id_hash',\n",
       "       'source_id_hash', 'source_item_type', 'browser_platform', 'os_family',\n",
       "       'country_code', 'region', 'day_of_week', 'time_of_day', 'gmt_offset',\n",
       "       'is_click'],\n",
       "      dtype='object')"
      ]
     },
     "execution_count": 41,
     "metadata": {},
     "output_type": "execute_result"
    }
   ],
   "source": [
    "sample.columns"
   ]
  },
  {
   "cell_type": "markdown",
   "metadata": {},
   "source": [
    "how do we use `page_view_start_time`?"
   ]
  },
  {
   "cell_type": "code",
   "execution_count": 42,
   "metadata": {},
   "outputs": [
    {
     "name": "stdout",
     "output_type": "stream",
     "text": [
      "We have 97.46% unique user touch points\n"
     ]
    }
   ],
   "source": [
    "p = sample.user_id_hash.nunique() / sample.user_id_hash.count()\n",
    "print(f\"We have {format(p*100, '.2f')+ '%'} unique user touch points\")"
   ]
  },
  {
   "cell_type": "markdown",
   "metadata": {},
   "source": [
    "We have 97% unique user ids, so no room for user statistics, better to drop it. "
   ]
  },
  {
   "cell_type": "code",
   "execution_count": 43,
   "metadata": {},
   "outputs": [
    {
     "name": "stdout",
     "output_type": "stream",
     "text": [
      "We have 6.44% unique target id touch points \n",
      "\n",
      "We have only 27072 target ids in the sample\n",
      "We have 420217 target id instances\n"
     ]
    }
   ],
   "source": [
    "p = sample.target_id_hash.nunique() / sample.target_id_hash.count()\n",
    "print(f\"We have {format(p*100, '.2f')+'%'} unique target id touch points \\n\")\n",
    "      \n",
    "print(f'We have only {sample.target_id_hash.nunique()} target ids in the sample')\n",
    "print(f'We have {sample.target_id_hash.count()} target id instances')"
   ]
  },
  {
   "cell_type": "markdown",
   "metadata": {},
   "source": [
    "We can do OHE or hashing.. also take statistics as features"
   ]
  },
  {
   "cell_type": "code",
   "execution_count": 44,
   "metadata": {},
   "outputs": [
    {
     "name": "stdout",
     "output_type": "stream",
     "text": [
      "We have 0.4541% unique target id touch points \n",
      "\n",
      "We have only 1908 syndicator_id_hash in the sample\n",
      "We have 420217 syndicator_id_hash instances\n"
     ]
    }
   ],
   "source": [
    "p = sample.syndicator_id_hash.nunique() / sample.syndicator_id_hash.count()\n",
    "print(f\"We have {format(p*100, '.4f')+'%'} unique target id touch points \\n\")\n",
    "      \n",
    "print(f'We have only {sample.syndicator_id_hash.nunique()} syndicator_id_hash in the sample')\n",
    "print(f'We have {sample.syndicator_id_hash.count()} syndicator_id_hash instances')"
   ]
  },
  {
   "cell_type": "markdown",
   "metadata": {},
   "source": [
    "No problem for OHE, and statistics"
   ]
  },
  {
   "cell_type": "code",
   "execution_count": 45,
   "metadata": {},
   "outputs": [
    {
     "name": "stdout",
     "output_type": "stream",
     "text": [
      "We have 2.94% unique campaign_id_hash \n",
      "\n",
      "We have only 12365 campaign_id_hash in the sample\n",
      "We have 420217 campaign_id_hash instances\n"
     ]
    }
   ],
   "source": [
    "p = sample.campaign_id_hash.nunique() / sample.campaign_id_hash.count()\n",
    "print(f\"We have {format(p*100, '.2f')+'%'} unique campaign_id_hash \\n\")\n",
    "      \n",
    "print(f'We have only {sample.campaign_id_hash.nunique()} campaign_id_hash in the sample')\n",
    "print(f'We have {sample.campaign_id_hash.count()} campaign_id_hash instances')"
   ]
  },
  {
   "cell_type": "markdown",
   "metadata": {},
   "source": [
    "No problem for OHE, and statistics"
   ]
  },
  {
   "cell_type": "code",
   "execution_count": 46,
   "metadata": {},
   "outputs": [
    {
     "data": {
      "text/plain": [
       "0            129.53584\n",
       "1            357.14075\n",
       "2            298.30496\n",
       "3          50006.86300\n",
       "4          15547.64200\n",
       "              ...     \n",
       "420212     31403.35000\n",
       "420213     19827.29000\n",
       "420214      1413.67980\n",
       "420215    331307.00000\n",
       "420216      4335.91160\n",
       "Name: empiric_calibrated_recs, Length: 420217, dtype: float64"
      ]
     },
     "execution_count": 46,
     "metadata": {},
     "output_type": "execute_result"
    }
   ],
   "source": [
    "sample.empiric_calibrated_recs"
   ]
  },
  {
   "cell_type": "markdown",
   "metadata": {},
   "source": [
    "We can normalize, or leave as is"
   ]
  },
  {
   "cell_type": "code",
   "execution_count": 47,
   "metadata": {},
   "outputs": [
    {
     "data": {
      "text/plain": [
       "0           930.0\n",
       "1          1286.0\n",
       "2           139.0\n",
       "3         64460.0\n",
       "4          7094.0\n",
       "           ...   \n",
       "420212    47089.0\n",
       "420213    13066.0\n",
       "420214    11275.0\n",
       "420215    53826.0\n",
       "420216     2679.0\n",
       "Name: empiric_clicks, Length: 420217, dtype: float64"
      ]
     },
     "execution_count": 47,
     "metadata": {},
     "output_type": "execute_result"
    }
   ],
   "source": [
    "sample.empiric_clicks"
   ]
  },
  {
   "cell_type": "markdown",
   "metadata": {},
   "source": [
    "We can normalize, or leave as is"
   ]
  },
  {
   "cell_type": "code",
   "execution_count": 48,
   "metadata": {},
   "outputs": [
    {
     "data": {
      "text/plain": [
       "array(['LIFE~TRAVEL', 'LIFE~PETS', 'LIFE~HOME', 'TECH', 'LIFE~HEALTH',\n",
       "       'ENTERTAINMENT~MUSIC', 'BUSINESS~FINANCE', 'LIFE', 'UNKNOWN',\n",
       "       'LIFE~FASHION', 'ENTERTAINMENT', 'SPORTS~FOOTBALL', 'BUSINESS',\n",
       "       'AUTOS', 'LIFE~ANIMALS', 'LIFE~SOCIETY', 'SPORTS~BASKETBALL',\n",
       "       'LIFE~RELIGION~CHRISTIANITY', 'BUSINESS~CAREERS', 'SPORTS',\n",
       "       'LIFE~FOOD', 'SPORTS~FIGHTING', 'NEWS~ARMED-CONFLICT',\n",
       "       'ENTERTAINMENT~CELEBS', 'LIFE~EDUCATION', 'LIFE~FAMILY',\n",
       "       'LIFE~HEALTH-AND-FITNESS', 'BUSINESS~SHOPPING',\n",
       "       'BUSINESS~INVESTING', 'NEWS', 'NEWS~MIDDLE-EAST', 'TECH~SCIENCE',\n",
       "       'NEWS~FOREIGN-AFFAIRS', 'TECH~MOBILE', 'BUSINESS~REAL-ESTATE',\n",
       "       'NEWS~POLITICS', 'NEWS~WORLD', 'TECH~ELECTRONICS', 'LIFE~BEAUTY',\n",
       "       'ENTERTAINMENT~COMEDY', 'LIFE~RELIGION', 'OPINIONS',\n",
       "       'ENTERTAINMENT~TV', 'TECH~GAMING', 'INDIA~POLITICS', 'ENVIRONMENT',\n",
       "       'LIFE~WOMEN', 'NEWS~LAW-ENFORCEMENT', 'LIFE~ART',\n",
       "       'LIFE~HOBBIES-AND-INTERESTS', 'LIFE~SEX', 'LIFE~NATURE',\n",
       "       'SPORTS~TENNIS', 'HUMOR', 'HISTORY', 'INDIA', 'OBSOLETE~CULTURE',\n",
       "       'SPORTS~HOCKEY~NHL', 'TECH~WEB', 'NEWS~WEATHER'], dtype=object)"
      ]
     },
     "execution_count": 48,
     "metadata": {},
     "output_type": "execute_result"
    }
   ],
   "source": [
    "sample.target_item_taxonomy.unique()"
   ]
  },
  {
   "cell_type": "markdown",
   "metadata": {},
   "source": [
    "OHE"
   ]
  },
  {
   "cell_type": "code",
   "execution_count": 49,
   "metadata": {},
   "outputs": [
    {
     "name": "stdout",
     "output_type": "stream",
     "text": [
      "We have 0.25% unique placement ids touch points \n",
      "\n",
      "We have only 1047  placement ids in the sample\n",
      "We have 420217  placement ids instances\n"
     ]
    }
   ],
   "source": [
    "p = sample.placement_id_hash.nunique() / sample.placement_id_hash.count()\n",
    "print(f\"We have {format(p*100, '.2f')+'%'} unique placement ids touch points \\n\")\n",
    "      \n",
    "print(f'We have only {sample.placement_id_hash.nunique()}  placement ids in the sample')\n",
    "print(f'We have {sample.placement_id_hash.count()}  placement ids instances')"
   ]
  },
  {
   "cell_type": "markdown",
   "metadata": {},
   "source": [
    "OHE and statistics"
   ]
  },
  {
   "cell_type": "code",
   "execution_count": 50,
   "metadata": {},
   "outputs": [
    {
     "data": {
      "text/plain": [
       "0         1051.0\n",
       "1         1074.0\n",
       "2          320.0\n",
       "3          206.0\n",
       "4            0.0\n",
       "           ...  \n",
       "420212       0.0\n",
       "420213     496.0\n",
       "420214     323.0\n",
       "420215       3.0\n",
       "420216     332.0\n",
       "Name: user_recs, Length: 420217, dtype: float64"
      ]
     },
     "execution_count": 50,
     "metadata": {},
     "output_type": "execute_result"
    }
   ],
   "source": [
    "sample.user_recs"
   ]
  },
  {
   "cell_type": "markdown",
   "metadata": {},
   "source": [
    "We can normalize, or leave as is"
   ]
  },
  {
   "cell_type": "code",
   "execution_count": 51,
   "metadata": {},
   "outputs": [
    {
     "data": {
      "text/plain": [
       "0         205.0\n",
       "1          69.0\n",
       "2           0.0\n",
       "3           7.0\n",
       "4           0.0\n",
       "          ...  \n",
       "420212      0.0\n",
       "420213      0.0\n",
       "420214      6.0\n",
       "420215      0.0\n",
       "420216     32.0\n",
       "Name: user_clicks, Length: 420217, dtype: float64"
      ]
     },
     "execution_count": 51,
     "metadata": {},
     "output_type": "execute_result"
    }
   ],
   "source": [
    "sample.user_clicks"
   ]
  },
  {
   "cell_type": "markdown",
   "metadata": {},
   "source": [
    "We can normalize, or leave as is"
   ]
  },
  {
   "cell_type": "code",
   "execution_count": 52,
   "metadata": {},
   "outputs": [
    {
     "data": {
      "text/plain": [
       "Index(['page_view_start_time', 'user_id_hash', 'target_id_hash',\n",
       "       'syndicator_id_hash', 'campaign_id_hash', 'empiric_calibrated_recs',\n",
       "       'empiric_clicks', 'target_item_taxonomy', 'placement_id_hash',\n",
       "       'user_recs', 'user_clicks', 'user_target_recs', 'publisher_id_hash',\n",
       "       'source_id_hash', 'source_item_type', 'browser_platform', 'os_family',\n",
       "       'country_code', 'region', 'day_of_week', 'time_of_day', 'gmt_offset',\n",
       "       'is_click'],\n",
       "      dtype='object')"
      ]
     },
     "execution_count": 52,
     "metadata": {},
     "output_type": "execute_result"
    }
   ],
   "source": [
    "sample.columns"
   ]
  },
  {
   "cell_type": "code",
   "execution_count": 53,
   "metadata": {},
   "outputs": [
    {
     "data": {
      "text/plain": [
       "0.0     326414\n",
       "1.0      44025\n",
       "2.0      18353\n",
       "3.0       9243\n",
       "4.0       5688\n",
       "         ...  \n",
       "92.0         1\n",
       "99.0         1\n",
       "79.0         1\n",
       "81.0         1\n",
       "73.0         1\n",
       "Name: user_target_recs, Length: 97, dtype: int64"
      ]
     },
     "execution_count": 53,
     "metadata": {},
     "output_type": "execute_result"
    }
   ],
   "source": [
    "sample.user_target_recs.value_counts()"
   ]
  },
  {
   "cell_type": "markdown",
   "metadata": {},
   "source": [
    "Ordinal features, keep or normalize"
   ]
  },
  {
   "cell_type": "code",
   "execution_count": 54,
   "metadata": {},
   "outputs": [
    {
     "name": "stdout",
     "output_type": "stream",
     "text": [
      "We have 0.00% unique publisher_id_hash touch points \n",
      "\n",
      "We have only 3  publisher_id_hash in the sample\n",
      "We have 420217  publisher_id_hash instances\n"
     ]
    }
   ],
   "source": [
    "p = sample.publisher_id_hash.nunique() / sample.publisher_id_hash.count()\n",
    "print(f\"We have {format(p*100, '.2f')+'%'} unique publisher_id_hash touch points \\n\")\n",
    "      \n",
    "print(f'We have only {sample.publisher_id_hash.nunique()}  publisher_id_hash in the sample')\n",
    "print(f'We have {sample.publisher_id_hash.count()}  publisher_id_hash instances')"
   ]
  },
  {
   "cell_type": "markdown",
   "metadata": {},
   "source": [
    "OHE and statistics (share of touch points per publisher) "
   ]
  },
  {
   "cell_type": "code",
   "execution_count": 55,
   "metadata": {},
   "outputs": [
    {
     "name": "stdout",
     "output_type": "stream",
     "text": [
      "We have 7.93% unique source_id_hash touch points \n",
      "\n",
      "We have only 33344  placement ids in the sample\n",
      "We have 420217  placement ids instances\n"
     ]
    }
   ],
   "source": [
    "p = sample.source_id_hash.nunique() / sample.source_id_hash.count()\n",
    "print(f\"We have {format(p*100, '.2f')+'%'} unique source_id_hash touch points \\n\")\n",
    "      \n",
    "print(f'We have only {sample.source_id_hash.nunique()}  placement ids in the sample')\n",
    "print(f'We have {sample.source_id_hash.count()}  placement ids instances')"
   ]
  },
  {
   "cell_type": "markdown",
   "metadata": {},
   "source": [
    "Good for OHE and statistics "
   ]
  },
  {
   "cell_type": "code",
   "execution_count": 56,
   "metadata": {},
   "outputs": [
    {
     "data": {
      "text/plain": [
       "array(['text', 'homepage', 'photo', 'video', 'category'], dtype=object)"
      ]
     },
     "execution_count": 56,
     "metadata": {},
     "output_type": "execute_result"
    }
   ],
   "source": [
    "sample.source_item_type.unique()"
   ]
  },
  {
   "cell_type": "markdown",
   "metadata": {},
   "source": [
    "OHE and statistics"
   ]
  },
  {
   "cell_type": "code",
   "execution_count": 57,
   "metadata": {},
   "outputs": [
    {
     "data": {
      "text/plain": [
       "array(['DESK', 'PHON', 'TBLT', 'TV'], dtype=object)"
      ]
     },
     "execution_count": 57,
     "metadata": {},
     "output_type": "execute_result"
    }
   ],
   "source": [
    "sample.browser_platform.unique()"
   ]
  },
  {
   "cell_type": "markdown",
   "metadata": {},
   "source": [
    "OHE and statistics "
   ]
  },
  {
   "cell_type": "code",
   "execution_count": 58,
   "metadata": {},
   "outputs": [
    {
     "data": {
      "text/plain": [
       "array([6, 2, 3, 5, 1, 4, 0], dtype=int64)"
      ]
     },
     "execution_count": 58,
     "metadata": {},
     "output_type": "execute_result"
    }
   ],
   "source": [
    "sample.os_family.unique()"
   ]
  },
  {
   "cell_type": "markdown",
   "metadata": {},
   "source": [
    "OHE its not ordinal"
   ]
  },
  {
   "cell_type": "code",
   "execution_count": 59,
   "metadata": {},
   "outputs": [
    {
     "data": {
      "text/plain": [
       "array(['US', 'NG', 'IN', 'RU', 'PR', 'RO', 'AU', 'IR', 'DE', 'AT', 'PL',\n",
       "       'NL', 'HK', 'LB', 'BE', 'TT', 'KR', 'PH', 'SG', 'LK', 'FR', 'JO',\n",
       "       'HU', 'MX', 'IT', 'BS', 'RS', 'QA', 'TR', 'GB', 'CA', 'KH', 'TC',\n",
       "       'TH', 'IE', 'MP', 'EG', 'SX', 'DM', 'VI', 'SE', 'GH', 'KE', 'ID',\n",
       "       'PT', 'CN', 'CY', 'EC', 'LT', 'CZ', 'DO', 'BB', 'PK', nan, 'PS',\n",
       "       'VN', 'JP', 'MN', 'GU', 'SD', 'SR', 'FI', 'AI', 'AO', 'CO', 'PA',\n",
       "       'JM', 'Y', 'IL', 'GE', 'AG', 'NO', 'CL', 'HR', 'SA', 'AL', 'LU',\n",
       "       'CH', 'IS', 'BG', 'SK', 'VC', 'ES', 'GR', 'MO', 'PE', 'TZ', 'BQ',\n",
       "       'AW', 'DK', 'TJ', 'NR', 'SL', 'NZ', 'AE', 'FJ', 'MH', 'AR', 'MU',\n",
       "       'BH', 'BM', 'MT', 'BR', 'TW', 'EE', 'ZA', '99', 'MK', 'NP', 'UZ',\n",
       "       'SI', 'SV', 'SB', 'BZ', 'CR', 'UA', 'BD', 'BA', 'MZ', 'BN', 'CW',\n",
       "       'LC', 'GI', 'KY', 'UY', 'MY', 'LV', 'KW', 'RW', 'LA', 'MQ', 'BW',\n",
       "       'MA', 'DZ', 'LY', 'IQ', 'ZM', 'HT', 'PY', 'HN', 'GY', 'CU', 'ZW',\n",
       "       'DJ', 'MW', 'CM', 'AS', 'LR', 'CV', 'MR', 'ER', 'AM', 'BY', 'OM',\n",
       "       'LS', 'AMERICA/NEW_YORK', 'MD', 'KN', 'BO', 'AF', 'GT', 'NI', 'JE',\n",
       "       'PW', 'TN', 'WS', 'SO', 'PG', 'CI', 'SZ', 'YE', 'UG', 'EU', 'VG',\n",
       "       'MM', 'KZ', 'FM', 'KI', 'ET', 'BJ', 'SN', 'VE', 'BI', 'PF', 'AZ',\n",
       "       'GD', 'TO', '410/443/667', 'GP', '-500', '708', 'CD', 'ME', '780',\n",
       "       '68', 'LI', 'SS', 'IM', 'AX', 'SY', 'MC', 'IO', 'GL',\n",
       "       'AMERICA/CHICAGO', 'CK', 'GM', 'GQ', 'SC', '24', 'FO', 'CG', 'VU',\n",
       "       'MG', 'BT', 'GA', 'NC', '253/564'], dtype=object)"
      ]
     },
     "execution_count": 59,
     "metadata": {},
     "output_type": "execute_result"
    }
   ],
   "source": [
    "sample.country_code.unique()"
   ]
  },
  {
   "cell_type": "markdown",
   "metadata": {},
   "source": [
    "Replace values that are not in the 52 states with 'other'"
   ]
  },
  {
   "cell_type": "code",
   "execution_count": 60,
   "metadata": {},
   "outputs": [
    {
     "data": {
      "text/plain": [
       "array(['US', 'NG', 'IN', 'RU', 'PR', 'RO', 'AU', 'IR', 'DE', 'AT', 'PL',\n",
       "       'NL', 'HK', 'LB', 'BE', 'TT', 'KR', 'PH', 'SG', 'LK', 'FR', 'JO',\n",
       "       'HU', 'MX', 'IT', 'BS', 'RS', 'QA', 'TR', 'GB', 'CA', 'KH', 'TC',\n",
       "       'TH', 'IE', 'MP', 'EG', 'SX', 'DM', 'VI', 'SE', 'GH', 'KE', 'ID',\n",
       "       'PT', 'CN', 'CY', 'EC', 'LT', 'CZ', 'DO', 'BB', 'PK', nan, 'PS',\n",
       "       'VN', 'JP', 'MN', 'GU', 'SD', 'SR', 'FI', 'AI', 'AO', 'CO', 'PA',\n",
       "       'JM', 'Y', 'IL', 'GE', 'AG', 'NO', 'CL', 'HR', 'SA', 'AL', 'LU',\n",
       "       'CH', 'IS', 'BG', 'SK', 'VC', 'ES', 'GR', 'MO', 'PE', 'TZ', 'BQ',\n",
       "       'AW', 'DK', 'TJ', 'NR', 'SL', 'NZ', 'AE', 'FJ', 'MH', 'AR', 'MU',\n",
       "       'BH', 'BM', 'MT', 'BR', 'TW', 'EE', 'ZA', '99', 'MK', 'NP', 'UZ',\n",
       "       'SI', 'SV', 'SB', 'BZ', 'CR', 'UA', 'BD', 'BA', 'MZ', 'BN', 'CW',\n",
       "       'LC', 'GI', 'KY', 'UY', 'MY', 'LV', 'KW', 'RW', 'LA', 'MQ', 'BW',\n",
       "       'MA', 'DZ', 'LY', 'IQ', 'ZM', 'HT', 'PY', 'HN', 'GY', 'CU', 'ZW',\n",
       "       'DJ', 'MW', 'CM', 'AS', 'LR', 'CV', 'MR', 'ER', 'AM', 'BY', 'OM',\n",
       "       'LS', 'AMERICA/NEW_YORK', 'MD', 'KN', 'BO', 'AF', 'GT', 'NI', 'JE',\n",
       "       'PW', 'TN', 'WS', 'SO', 'PG', 'CI', 'SZ', 'YE', 'UG', 'EU', 'VG',\n",
       "       'MM', 'KZ', 'FM', 'KI', 'ET', 'BJ', 'SN', 'VE', 'BI', 'PF', 'AZ',\n",
       "       'GD', 'TO', '410/443/667', 'GP', '-500', '708', 'CD', 'ME', '780',\n",
       "       '68', 'LI', 'SS', 'IM', 'AX', 'SY', 'MC', 'IO', 'GL',\n",
       "       'AMERICA/CHICAGO', 'CK', 'GM', 'GQ', 'SC', '24', 'FO', 'CG', 'VU',\n",
       "       'MG', 'BT', 'GA', 'NC', '253/564'], dtype=object)"
      ]
     },
     "execution_count": 60,
     "metadata": {},
     "output_type": "execute_result"
    }
   ],
   "source": [
    "sample.country_code.unique()"
   ]
  },
  {
   "cell_type": "markdown",
   "metadata": {},
   "source": [
    "OHE + statistics + some other features you want regarding the state"
   ]
  },
  {
   "cell_type": "code",
   "execution_count": 61,
   "metadata": {},
   "outputs": [],
   "source": [
    "from collections import Counter\n",
    "country_region = zip(sample.country_code, sample.region)\n",
    "counts = Counter(country_region)"
   ]
  },
  {
   "cell_type": "code",
   "execution_count": 62,
   "metadata": {},
   "outputs": [
    {
     "data": {
      "text/plain": [
       "853"
      ]
     },
     "execution_count": 62,
     "metadata": {},
     "output_type": "execute_result"
    }
   ],
   "source": [
    "sample.region.nunique()"
   ]
  },
  {
   "cell_type": "code",
   "execution_count": 63,
   "metadata": {},
   "outputs": [
    {
     "data": {
      "text/plain": [
       "array(['NH', 'NV', 'NY', 'AR', 'GA'], dtype=object)"
      ]
     },
     "execution_count": 63,
     "metadata": {},
     "output_type": "execute_result"
    }
   ],
   "source": [
    "sample.region.unique()[:5]"
   ]
  },
  {
   "cell_type": "code",
   "execution_count": 65,
   "metadata": {},
   "outputs": [
    {
     "name": "stdout",
     "output_type": "stream",
     "text": [
      "number of US countries: 52 with 407497 instances\n",
      "number of other countries: 1617 with 12720 instances\n"
     ]
    },
    {
     "data": {
      "text/plain": [
       "[(('US', 'CA'), 37602),\n",
       " (('US', 'FL'), 29683),\n",
       " (('US', 'TX'), 28804),\n",
       " (('US', 'NY'), 19906),\n",
       " (('US', 'PA'), 18340),\n",
       " (('US', 'OH'), 16348),\n",
       " (('US', 'IL'), 16126),\n",
       " (('US', 'WA'), 13353),\n",
       " (('US', 'MI'), 12832),\n",
       " (('US', 'NC'), 12183),\n",
       " (('US', 'VA'), 11835),\n",
       " (('US', 'GA'), 11736),\n",
       " (('US', 'AZ'), 11645),\n",
       " (('US', 'NJ'), 11328),\n",
       " (('US', 'CO'), 9341),\n",
       " (('US', 'MA'), 9106),\n",
       " (('US', 'WI'), 8959),\n",
       " (('US', 'MN'), 8792),\n",
       " (('US', 'MD'), 8369),\n",
       " (('US', 'IN'), 8110),\n",
       " (('US', 'TN'), 7862),\n",
       " (('US', 'MO'), 7726),\n",
       " (('US', 'SC'), 5994),\n",
       " (('US', 'OR'), 5916),\n",
       " (('US', 'KY'), 5346),\n",
       " (('US', 'AL'), 5248),\n",
       " (('US', 'IA'), 4981),\n",
       " (('US', 'CT'), 4511),\n",
       " (('US', 'NV'), 4389),\n",
       " (('US', 'LA'), 4314),\n",
       " (('US', 'OK'), 4273),\n",
       " (('US', 'KS'), 4201),\n",
       " (('US', 'UT'), 3516),\n",
       " (('US', 'AR'), 3054),\n",
       " (('US', 'NE'), 2900),\n",
       " (('US', 'NM'), 2749),\n",
       " (('US', 'NH'), 2736),\n",
       " (('US', 'ID'), 2593),\n",
       " (('US', 'MS'), 2519),\n",
       " (('US', 'WV'), 2376),\n",
       " (('US', 'MT'), 1989),\n",
       " (('US', 'ME'), 1915),\n",
       " (('US', 'HI'), 1670),\n",
       " (('US', 'SD'), 1565),\n",
       " (('US', 'RI'), 1466),\n",
       " (('US', 'DE'), 1409),\n",
       " (('US', 'ND'), 1405),\n",
       " (('US', 'DC'), 1352),\n",
       " (('US', 'AK'), 1224),\n",
       " (('US', 'WY'), 1014),\n",
       " (('CA', 'ON'), 881),\n",
       " (('US', 'VT'), 850),\n",
       " (('PR', 'UNKNOWN'), 428),\n",
       " (('CA', 'BC'), 300),\n",
       " (('HK', 'UNKNOWN'), 291),\n",
       " (('CA', 'AB'), 221),\n",
       " (('CA', 'QC'), 210),\n",
       " (('AU', 'NSW'), 112),\n",
       " (('NL', 'NH'), 105),\n",
       " (('GR', 'I'), 94)]"
      ]
     },
     "execution_count": 65,
     "metadata": {},
     "output_type": "execute_result"
    }
   ],
   "source": [
    "country_region = list(zip(sample.country_code, sample.region))\n",
    "country_region_set = set(country_region)\n",
    "num_us_countries = sum(1 for s in country_region_set if s[0] == \"US\")\n",
    "us_instances = sum(1 for s in country_region if s[0] == \"US\")\n",
    "print(f\"number of US countries: {num_us_countries} with {us_instances} instances\")\n",
    "print(f\"number of other countries: {len(country_region_set) - num_us_countries} with {len(country_region) - us_instances} instances\")\n",
    "c = Counter(country_region)\n",
    "c.most_common(60)"
   ]
  },
  {
   "cell_type": "markdown",
   "metadata": {},
   "source": [
    "replace numeric values to 'other' and OHE"
   ]
  },
  {
   "cell_type": "code",
   "execution_count": 93,
   "metadata": {},
   "outputs": [
    {
     "data": {
      "text/plain": [
       "0         3\n",
       "1         5\n",
       "2         1\n",
       "3         0\n",
       "4         1\n",
       "         ..\n",
       "420212    3\n",
       "420213    1\n",
       "420214    0\n",
       "420215    1\n",
       "420216    4\n",
       "Name: day_of_week, Length: 420217, dtype: int64"
      ]
     },
     "execution_count": 93,
     "metadata": {},
     "output_type": "execute_result"
    }
   ],
   "source": [
    "sample.day_of_week"
   ]
  },
  {
   "cell_type": "markdown",
   "metadata": {},
   "source": [
    "Its ordinal, so normelize or not "
   ]
  },
  {
   "cell_type": "code",
   "execution_count": 95,
   "metadata": {},
   "outputs": [
    {
     "data": {
      "text/plain": [
       "0         13\n",
       "1         14\n",
       "2         23\n",
       "3         14\n",
       "4         19\n",
       "          ..\n",
       "420212     6\n",
       "420213    22\n",
       "420214     7\n",
       "420215    22\n",
       "420216    19\n",
       "Name: time_of_day, Length: 420217, dtype: int64"
      ]
     },
     "execution_count": 95,
     "metadata": {},
     "output_type": "execute_result"
    }
   ],
   "source": [
    "sample.time_of_day"
   ]
  },
  {
   "cell_type": "markdown",
   "metadata": {},
   "source": [
    "Its ordinal so no problem"
   ]
  },
  {
   "cell_type": "code",
   "execution_count": 97,
   "metadata": {},
   "outputs": [
    {
     "data": {
      "text/plain": [
       "0        -400\n",
       "1        -700\n",
       "2        -400\n",
       "3        -500\n",
       "4        -400\n",
       "         ... \n",
       "420212   -400\n",
       "420213   -400\n",
       "420214   -400\n",
       "420215   -400\n",
       "420216   -400\n",
       "Name: gmt_offset, Length: 420217, dtype: int64"
      ]
     },
     "execution_count": 97,
     "metadata": {},
     "output_type": "execute_result"
    }
   ],
   "source": [
    "sample.gmt_offset"
   ]
  },
  {
   "cell_type": "markdown",
   "metadata": {},
   "source": [
    "maybe we can use it to calculate if its morning or evening for the user "
   ]
  },
  {
   "cell_type": "code",
   "execution_count": 79,
   "metadata": {},
   "outputs": [
    {
     "name": "stdout",
     "output_type": "stream",
     "text": [
      "0.0\t210333\t50.05%\n",
      "1.0\t209884\t49.95%\n"
     ]
    }
   ],
   "source": [
    "counts = Counter(sample.is_click)\n",
    "total = sum(counts.values())\n",
    "for label, count in counts.most_common():\n",
    "    print(f\"{label}\\t{count}\\t{100 * count / total:.2f}%\")"
   ]
  },
  {
   "cell_type": "markdown",
   "metadata": {},
   "source": [
    "it the binary label"
   ]
  },
  {
   "cell_type": "code",
   "execution_count": 67,
   "metadata": {},
   "outputs": [
    {
     "name": "stderr",
     "output_type": "stream",
     "text": [
      "c:\\users\\ronp\\py37-dasci\\lib\\site-packages\\ipykernel_launcher.py:3: DeprecationWarning: Using Nominatim with the default \"geopy/1.22.0\" `user_agent` is strongly discouraged, as it violates Nominatim's ToS https://operations.osmfoundation.org/policies/nominatim/ and may possibly cause 403 and 429 HTTP errors. Please specify a custom `user_agent` with `Nominatim(user_agent=\"my-application\")` or by overriding the default `user_agent`: `geopy.geocoders.options.default_user_agent = \"my-application\"`. In geopy 2.0 this will become an exception.\n",
      "  This is separate from the ipykernel package so we can avoid doing imports until\n"
     ]
    }
   ],
   "source": [
    "import geopy\n",
    "\n",
    "nom = geopy.Nominatim()"
   ]
  },
  {
   "cell_type": "code",
   "execution_count": 69,
   "metadata": {},
   "outputs": [
    {
     "data": {
      "text/plain": [
       "Location(California, United States of America, (36.7014631, -118.7559974, 0.0))"
      ]
     },
     "execution_count": 69,
     "metadata": {},
     "output_type": "execute_result"
    }
   ],
   "source": [
    "nom.geocode(\"US CA\")"
   ]
  },
  {
   "cell_type": "code",
   "execution_count": null,
   "metadata": {},
   "outputs": [],
   "source": []
  },
  {
   "cell_type": "code",
   "execution_count": null,
   "metadata": {},
   "outputs": [],
   "source": []
  }
 ],
 "metadata": {
  "kernelspec": {
   "display_name": "Python 3",
   "language": "python",
   "name": "python3"
  },
  "language_info": {
   "codemirror_mode": {
    "name": "ipython",
    "version": 3
   },
   "file_extension": ".py",
   "mimetype": "text/x-python",
   "name": "python",
   "nbconvert_exporter": "python",
   "pygments_lexer": "ipython3",
   "version": "3.7.7"
  },
  "toc": {
   "base_numbering": 1,
   "nav_menu": {},
   "number_sections": true,
   "sideBar": true,
   "skip_h1_title": false,
   "title_cell": "Table of Contents",
   "title_sidebar": "Contents",
   "toc_cell": false,
   "toc_position": {},
   "toc_section_display": true,
   "toc_window_display": true
  }
 },
 "nbformat": 4,
 "nbformat_minor": 4
}
