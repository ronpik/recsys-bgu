{
 "cells": [
  {
   "cell_type": "code",
   "execution_count": 15,
   "metadata": {
    "pycharm": {
     "is_executing": false
    }
   },
   "outputs": [
    {
     "traceback": [
      "\u001b[1;31m---------------------------------------------------------------------------\u001b[0m",
      "\u001b[1;31mModuleNotFoundError\u001b[0m                       Traceback (most recent call last)",
      "\u001b[1;32m<ipython-input-15-5086d7b32a11>\u001b[0m in \u001b[0;36m<module>\u001b[1;34m\u001b[0m\n\u001b[0;32m      1\u001b[0m \u001b[1;32mfrom\u001b[0m \u001b[0mcollections\u001b[0m \u001b[1;32mimport\u001b[0m \u001b[0mCounter\u001b[0m\u001b[1;33m\u001b[0m\u001b[1;33m\u001b[0m\u001b[0m\n\u001b[0;32m      2\u001b[0m \u001b[1;32mimport\u001b[0m \u001b[0mpandas\u001b[0m \u001b[1;32mas\u001b[0m \u001b[0mpd\u001b[0m\u001b[1;33m\u001b[0m\u001b[1;33m\u001b[0m\u001b[0m\n\u001b[1;32m----> 3\u001b[1;33m \u001b[1;32mimport\u001b[0m \u001b[0mxgboost\u001b[0m \u001b[1;32mas\u001b[0m \u001b[0mxgb\u001b[0m\u001b[1;33m\u001b[0m\u001b[1;33m\u001b[0m\u001b[0m\n\u001b[0m\u001b[0;32m      4\u001b[0m \u001b[1;32mimport\u001b[0m \u001b[0mlogging\u001b[0m\u001b[1;33m\u001b[0m\u001b[1;33m\u001b[0m\u001b[0m\n\u001b[0;32m      5\u001b[0m \u001b[1;32mimport\u001b[0m \u001b[0mos\u001b[0m\u001b[1;33m\u001b[0m\u001b[1;33m\u001b[0m\u001b[0m\n",
      "\u001b[1;31mModuleNotFoundError\u001b[0m: No module named 'xgboost'"
     ],
     "ename": "ModuleNotFoundError",
     "evalue": "No module named 'xgboost'",
     "output_type": "error"
    }
   ],
   "source": [
    "from collections import Counter\n",
    "import pandas as pd\n",
    "import xgboost as xgb\n",
    "import logging\n",
    "import os"
   ]
  },
  {
   "cell_type": "markdown",
   "metadata": {},
   "source": [
    "## Data"
   ]
  },
  {
   "cell_type": "code",
   "execution_count": 2,
   "metadata": {
    "pycharm": {
     "is_executing": false
    }
   },
   "outputs": [],
   "source": [
    "train_path = \"part-00002.csv\""
   ]
  },
  {
   "cell_type": "code",
   "execution_count": 3,
   "metadata": {
    "pycharm": {
     "is_executing": false,
     "name": "#%%\n"
    }
   },
   "outputs": [],
   "source": [
    "train_data = pd.read_csv(train_path)"
   ]
  },
  {
   "cell_type": "code",
   "execution_count": 4,
   "metadata": {
    "pycharm": {
     "is_executing": false,
     "name": "#%%\n"
    }
   },
   "outputs": [
    {
     "data": {
      "text/html": [
       "<div>\n",
       "<style scoped>\n",
       "    .dataframe tbody tr th:only-of-type {\n",
       "        vertical-align: middle;\n",
       "    }\n",
       "\n",
       "    .dataframe tbody tr th {\n",
       "        vertical-align: top;\n",
       "    }\n",
       "\n",
       "    .dataframe thead th {\n",
       "        text-align: right;\n",
       "    }\n",
       "</style>\n",
       "<table border=\"1\" class=\"dataframe\">\n",
       "  <thead>\n",
       "    <tr style=\"text-align: right;\">\n",
       "      <th></th>\n",
       "      <th>page_view_start_time</th>\n",
       "      <th>user_id_hash</th>\n",
       "      <th>target_id_hash</th>\n",
       "      <th>syndicator_id_hash</th>\n",
       "      <th>campaign_id_hash</th>\n",
       "      <th>empiric_calibrated_recs</th>\n",
       "      <th>empiric_clicks</th>\n",
       "      <th>target_item_taxonomy</th>\n",
       "      <th>placement_id_hash</th>\n",
       "      <th>user_recs</th>\n",
       "      <th>...</th>\n",
       "      <th>source_id_hash</th>\n",
       "      <th>source_item_type</th>\n",
       "      <th>browser_platform</th>\n",
       "      <th>os_family</th>\n",
       "      <th>country_code</th>\n",
       "      <th>region</th>\n",
       "      <th>day_of_week</th>\n",
       "      <th>time_of_day</th>\n",
       "      <th>gmt_offset</th>\n",
       "      <th>is_click</th>\n",
       "    </tr>\n",
       "  </thead>\n",
       "  <tbody>\n",
       "    <tr>\n",
       "      <th>0</th>\n",
       "      <td>1586972175040</td>\n",
       "      <td>cc720429312f18d7b2e4c113c6f48cef3d16836b7fdce0...</td>\n",
       "      <td>e47742764f99fbe66f06369af9557667a87acf3d7942a1...</td>\n",
       "      <td>f7fc333375dc274f0c94a23df0b3768404f87195742a6e...</td>\n",
       "      <td>8681b856166e1e7f002f6a2607a4e2ba35ec4d9ce9812e...</td>\n",
       "      <td>129.53584</td>\n",
       "      <td>930.0</td>\n",
       "      <td>LIFE~TRAVEL</td>\n",
       "      <td>251974fe3b996b3c952690db23c62aa3698a99e46ee022...</td>\n",
       "      <td>1051.0</td>\n",
       "      <td>...</td>\n",
       "      <td>acefa4deefb13b8d19cbe262528f5c3532bc7f0363e4c3...</td>\n",
       "      <td>text</td>\n",
       "      <td>DESK</td>\n",
       "      <td>6</td>\n",
       "      <td>US</td>\n",
       "      <td>NH</td>\n",
       "      <td>3</td>\n",
       "      <td>13</td>\n",
       "      <td>-400</td>\n",
       "      <td>1.0</td>\n",
       "    </tr>\n",
       "    <tr>\n",
       "      <th>1</th>\n",
       "      <td>1586553332086</td>\n",
       "      <td>d8bc219c47b2570fea85d82b9df00973487e8ab1ca76e1...</td>\n",
       "      <td>cfbc031f0bacfa09f2a70a02c1024711d2e7ef205e9339...</td>\n",
       "      <td>888081c07a6adc27ad51bde46544a5fe2f803e8293e561...</td>\n",
       "      <td>7b4c9ccff73b03f8d6c41d8b2dd4d190f387081b7e5b2c...</td>\n",
       "      <td>357.14075</td>\n",
       "      <td>1286.0</td>\n",
       "      <td>LIFE~PETS</td>\n",
       "      <td>970f1987570a4ece129c056ddf4de53b1f43b0882ea65c...</td>\n",
       "      <td>1074.0</td>\n",
       "      <td>...</td>\n",
       "      <td>4c7987d659b97d2007c45bb3c9fd903b135a2ef18130f7...</td>\n",
       "      <td>homepage</td>\n",
       "      <td>DESK</td>\n",
       "      <td>6</td>\n",
       "      <td>US</td>\n",
       "      <td>NV</td>\n",
       "      <td>5</td>\n",
       "      <td>14</td>\n",
       "      <td>-700</td>\n",
       "      <td>0.0</td>\n",
       "    </tr>\n",
       "    <tr>\n",
       "      <th>2</th>\n",
       "      <td>1586231495787</td>\n",
       "      <td>ed8ddb92498f13f88101c13e0a26fdcc87db5d929c17d2...</td>\n",
       "      <td>c775af6de0b254897ec4d00d174e298a6d34dd6e2c104b...</td>\n",
       "      <td>100328dbbf569e6848665b2cd40823e7dde2175050d987...</td>\n",
       "      <td>6801569fe0d16817528745e61b4897202634ea9905a5f2...</td>\n",
       "      <td>298.30496</td>\n",
       "      <td>139.0</td>\n",
       "      <td>LIFE~HOME</td>\n",
       "      <td>3ce0dc6ef6be59d27da0a3ecbd2b5b28c88bf5e3a98bc9...</td>\n",
       "      <td>320.0</td>\n",
       "      <td>...</td>\n",
       "      <td>09bb81e4503b782e80b2c802ad08576f39f76cc4c466dd...</td>\n",
       "      <td>text</td>\n",
       "      <td>DESK</td>\n",
       "      <td>6</td>\n",
       "      <td>US</td>\n",
       "      <td>NY</td>\n",
       "      <td>1</td>\n",
       "      <td>23</td>\n",
       "      <td>-400</td>\n",
       "      <td>0.0</td>\n",
       "    </tr>\n",
       "    <tr>\n",
       "      <th>3</th>\n",
       "      <td>1586720067383</td>\n",
       "      <td>f2b6bcf14717b7148cb8f92cbcbecb3a9ff24607b0a5c9...</td>\n",
       "      <td>b62da02a3fc769b747ec9de5bc90d988646ef35ad39873...</td>\n",
       "      <td>778263b6cc984e65c497d16b7fec917c3230cbdcc56fa1...</td>\n",
       "      <td>e7b35c85695999bbcbfc4d10b932c5e8b6b52d5720237e...</td>\n",
       "      <td>50006.86300</td>\n",
       "      <td>64460.0</td>\n",
       "      <td>TECH</td>\n",
       "      <td>39d46cdd8f08693dd0cb967d016efec97d0bc5eb1899dc...</td>\n",
       "      <td>206.0</td>\n",
       "      <td>...</td>\n",
       "      <td>c83159630182a5b7bc3c3fc985156c03b2a43129d63376...</td>\n",
       "      <td>homepage</td>\n",
       "      <td>DESK</td>\n",
       "      <td>6</td>\n",
       "      <td>US</td>\n",
       "      <td>AR</td>\n",
       "      <td>0</td>\n",
       "      <td>14</td>\n",
       "      <td>-500</td>\n",
       "      <td>1.0</td>\n",
       "    </tr>\n",
       "    <tr>\n",
       "      <th>4</th>\n",
       "      <td>1586820341555</td>\n",
       "      <td>6ea6706128c562661fd6ec45ea2521a9f2837c8c9d5078...</td>\n",
       "      <td>a07a13aa1a83706186e4bf205ba79c614697284a059e08...</td>\n",
       "      <td>a517d24ada92fc973f1612bd27ce716ff506485868d441...</td>\n",
       "      <td>b8abf8828615be8732cbe1589fa2c8f4fd8cecb5bca791...</td>\n",
       "      <td>15547.64200</td>\n",
       "      <td>7094.0</td>\n",
       "      <td>LIFE~HEALTH</td>\n",
       "      <td>f46a38c5c8d89917121df61f7a725748354c47dfc79cfe...</td>\n",
       "      <td>0.0</td>\n",
       "      <td>...</td>\n",
       "      <td>c83159630182a5b7bc3c3fc985156c03b2a43129d63376...</td>\n",
       "      <td>homepage</td>\n",
       "      <td>DESK</td>\n",
       "      <td>6</td>\n",
       "      <td>US</td>\n",
       "      <td>GA</td>\n",
       "      <td>1</td>\n",
       "      <td>19</td>\n",
       "      <td>-400</td>\n",
       "      <td>0.0</td>\n",
       "    </tr>\n",
       "  </tbody>\n",
       "</table>\n",
       "<p>5 rows × 23 columns</p>\n",
       "</div>"
      ],
      "text/plain": [
       "   page_view_start_time                                       user_id_hash  \\\n",
       "0         1586972175040  cc720429312f18d7b2e4c113c6f48cef3d16836b7fdce0...   \n",
       "1         1586553332086  d8bc219c47b2570fea85d82b9df00973487e8ab1ca76e1...   \n",
       "2         1586231495787  ed8ddb92498f13f88101c13e0a26fdcc87db5d929c17d2...   \n",
       "3         1586720067383  f2b6bcf14717b7148cb8f92cbcbecb3a9ff24607b0a5c9...   \n",
       "4         1586820341555  6ea6706128c562661fd6ec45ea2521a9f2837c8c9d5078...   \n",
       "\n",
       "                                      target_id_hash  \\\n",
       "0  e47742764f99fbe66f06369af9557667a87acf3d7942a1...   \n",
       "1  cfbc031f0bacfa09f2a70a02c1024711d2e7ef205e9339...   \n",
       "2  c775af6de0b254897ec4d00d174e298a6d34dd6e2c104b...   \n",
       "3  b62da02a3fc769b747ec9de5bc90d988646ef35ad39873...   \n",
       "4  a07a13aa1a83706186e4bf205ba79c614697284a059e08...   \n",
       "\n",
       "                                  syndicator_id_hash  \\\n",
       "0  f7fc333375dc274f0c94a23df0b3768404f87195742a6e...   \n",
       "1  888081c07a6adc27ad51bde46544a5fe2f803e8293e561...   \n",
       "2  100328dbbf569e6848665b2cd40823e7dde2175050d987...   \n",
       "3  778263b6cc984e65c497d16b7fec917c3230cbdcc56fa1...   \n",
       "4  a517d24ada92fc973f1612bd27ce716ff506485868d441...   \n",
       "\n",
       "                                    campaign_id_hash  empiric_calibrated_recs  \\\n",
       "0  8681b856166e1e7f002f6a2607a4e2ba35ec4d9ce9812e...                129.53584   \n",
       "1  7b4c9ccff73b03f8d6c41d8b2dd4d190f387081b7e5b2c...                357.14075   \n",
       "2  6801569fe0d16817528745e61b4897202634ea9905a5f2...                298.30496   \n",
       "3  e7b35c85695999bbcbfc4d10b932c5e8b6b52d5720237e...              50006.86300   \n",
       "4  b8abf8828615be8732cbe1589fa2c8f4fd8cecb5bca791...              15547.64200   \n",
       "\n",
       "   empiric_clicks target_item_taxonomy  \\\n",
       "0           930.0          LIFE~TRAVEL   \n",
       "1          1286.0            LIFE~PETS   \n",
       "2           139.0            LIFE~HOME   \n",
       "3         64460.0                 TECH   \n",
       "4          7094.0          LIFE~HEALTH   \n",
       "\n",
       "                                   placement_id_hash  user_recs  ...  \\\n",
       "0  251974fe3b996b3c952690db23c62aa3698a99e46ee022...     1051.0  ...   \n",
       "1  970f1987570a4ece129c056ddf4de53b1f43b0882ea65c...     1074.0  ...   \n",
       "2  3ce0dc6ef6be59d27da0a3ecbd2b5b28c88bf5e3a98bc9...      320.0  ...   \n",
       "3  39d46cdd8f08693dd0cb967d016efec97d0bc5eb1899dc...      206.0  ...   \n",
       "4  f46a38c5c8d89917121df61f7a725748354c47dfc79cfe...        0.0  ...   \n",
       "\n",
       "                                      source_id_hash  source_item_type  \\\n",
       "0  acefa4deefb13b8d19cbe262528f5c3532bc7f0363e4c3...              text   \n",
       "1  4c7987d659b97d2007c45bb3c9fd903b135a2ef18130f7...          homepage   \n",
       "2  09bb81e4503b782e80b2c802ad08576f39f76cc4c466dd...              text   \n",
       "3  c83159630182a5b7bc3c3fc985156c03b2a43129d63376...          homepage   \n",
       "4  c83159630182a5b7bc3c3fc985156c03b2a43129d63376...          homepage   \n",
       "\n",
       "  browser_platform os_family country_code region  day_of_week time_of_day  \\\n",
       "0             DESK         6           US     NH            3          13   \n",
       "1             DESK         6           US     NV            5          14   \n",
       "2             DESK         6           US     NY            1          23   \n",
       "3             DESK         6           US     AR            0          14   \n",
       "4             DESK         6           US     GA            1          19   \n",
       "\n",
       "  gmt_offset  is_click  \n",
       "0       -400       1.0  \n",
       "1       -700       0.0  \n",
       "2       -400       0.0  \n",
       "3       -500       1.0  \n",
       "4       -400       0.0  \n",
       "\n",
       "[5 rows x 23 columns]"
      ]
     },
     "execution_count": 4,
     "metadata": {},
     "output_type": "execute_result"
    }
   ],
   "source": [
    "train_data.head()"
   ]
  },
  {
   "cell_type": "code",
   "execution_count": 5,
   "metadata": {
    "pycharm": {
     "is_executing": false,
     "name": "#%%\n"
    }
   },
   "outputs": [
    {
     "data": {
      "text/plain": [
       "7"
      ]
     },
     "execution_count": 5,
     "metadata": {},
     "output_type": "execute_result"
    }
   ],
   "source": [
    "train_data[\"os_family\"].nunique()"
   ]
  },
  {
   "cell_type": "code",
   "execution_count": 6,
   "metadata": {
    "pycharm": {
     "is_executing": false,
     "name": "#%%\n"
    }
   },
   "outputs": [
    {
     "data": {
      "text/plain": [
       "dtype('O')"
      ]
     },
     "execution_count": 6,
     "metadata": {},
     "output_type": "execute_result"
    }
   ],
   "source": [
    "train_data[\"country_code\"].dtype"
   ]
  },
  {
   "cell_type": "code",
   "execution_count": 7,
   "metadata": {
    "pycharm": {
     "is_executing": false,
     "name": "#%%\n"
    }
   },
   "outputs": [
    {
     "data": {
      "text/plain": [
       "23"
      ]
     },
     "execution_count": 7,
     "metadata": {},
     "output_type": "execute_result"
    }
   ],
   "source": [
    "len(train_data.columns)"
   ]
  },
  {
   "cell_type": "code",
   "execution_count": 8,
   "metadata": {
    "pycharm": {
     "is_executing": false
    }
   },
   "outputs": [],
   "source": [
    "import sys\n",
    "sys.path.append(\"/home/ron/workspace/recsys-bgu\")"
   ]
  },
  {
   "cell_type": "code",
   "execution_count": 13,
   "metadata": {
    "pycharm": {
     "is_executing": false,
     "name": "#%%\n"
    }
   },
   "outputs": [
    {
     "name": "stdout",
     "output_type": "stream",
     "text": [
      "Wall time: 3.43 s\n"
     ]
    },
    {
     "data": {
      "text/plain": [
       "8455"
      ]
     },
     "execution_count": 13,
     "metadata": {},
     "output_type": "execute_result"
    }
   ],
   "source": [
    "%%time\n",
    "from kaggle.preprocess.features_hashing import FeaturesHashingProcessor\n",
    "features_processor = FeaturesHashingProcessor()\n",
    "features_processor.fit(train_data)\n",
    "len(features_processor.features_names)\n"
   ]
  },
  {
   "cell_type": "code",
   "execution_count": 14,
   "metadata": {
    "pycharm": {
     "is_executing": true,
     "name": "#%%\n"
    }
   },
   "outputs": [
    {
     "name": "stdout",
     "output_type": "stream",
     "text": [
      "target_id_hash\n",
      "campaign_id_hash\n",
      "syndicator_id_hash\n",
      "placement_id_hash\n",
      "source_id_hash\n",
      "country_code\n",
      "region\n",
      "publisher_id_hash\n",
      "source_item_type\n",
      "browser_platform\n",
      "(420217, 8455)\n",
      "Wall time: 25 s\n"
     ]
    },
    {
     "data": {
      "text/plain": [
       "<420217x8455 sparse matrix of type '<class 'numpy.float64'>'\n",
       "\twith 10320992 stored elements in Compressed Sparse Row format>"
      ]
     },
     "execution_count": 14,
     "metadata": {},
     "output_type": "execute_result"
    }
   ],
   "source": [
    "%%time\n",
    "features = features_processor.transform(train_data)\n",
    "print(features.shape)\n",
    "features"
   ]
  },
  {
   "cell_type": "code",
   "execution_count": null,
   "metadata": {
    "pycharm": {
     "is_executing": false
    }
   },
   "outputs": [],
   "source": [
    "# test_path = \"/home/ron/fast-data/test_file.csv\""
   ]
  },
  {
   "cell_type": "code",
   "execution_count": null,
   "metadata": {
    "pycharm": {
     "is_executing": false
    }
   },
   "outputs": [],
   "source": [
    "test_data = pd.read_csv(test_path)"
   ]
  },
  {
   "cell_type": "code",
   "execution_count": null,
   "metadata": {
    "pycharm": {
     "is_executing": false
    }
   },
   "outputs": [],
   "source": [
    "test_data.head()"
   ]
  },
  {
   "cell_type": "code",
   "execution_count": null,
   "metadata": {},
   "outputs": [],
   "source": [
    "test_features = features_processor.transform(test_data)\n",
    "print(test_features.shape)\n",
    "test_features"
   ]
  },
  {
   "cell_type": "code",
   "execution_count": null,
   "metadata": {},
   "outputs": [],
   "source": [
    "model = xgb.XGBClassifier(n_estimators= 100, max_depth=5)"
   ]
  },
  {
   "cell_type": "code",
   "execution_count": null,
   "metadata": {},
   "outputs": [],
   "source": [
    "model.fit(X_train, list(train.is_click))"
   ]
  },
  {
   "cell_type": "code",
   "execution_count": null,
   "outputs": [],
   "source": [
    "test_data.head()"
   ],
   "metadata": {
    "collapsed": false,
    "pycharm": {
     "name": "#%%\n"
    }
   }
  },
  {
   "cell_type": "code",
   "execution_count": null,
   "outputs": [],
   "source": [
    "predictions = model.predict(test)\n"
   ],
   "metadata": {
    "collapsed": false,
    "pycharm": {
     "name": "#%%\n"
    }
   }
  },
  {
   "cell_type": "code",
   "execution_count": null,
   "outputs": [],
   "source": [
    "output = test_data.filter([id])"
   ],
   "metadata": {
    "collapsed": false,
    "pycharm": {
     "name": "#%%\n"
    }
   }
  },
  {
   "cell_type": "code",
   "execution_count": null,
   "outputs": [],
   "source": [
    "output.assign()"
   ],
   "metadata": {
    "collapsed": false,
    "pycharm": {
     "name": "#%%\n"
    }
   }
  },
  {
   "cell_type": "code",
   "execution_count": null,
   "outputs": [],
   "source": [
    "output = output.assign(Predicted = predictions )"
   ],
   "metadata": {
    "collapsed": false,
    "pycharm": {
     "name": "#%%\n"
    }
   }
  },
  {
   "cell_type": "code",
   "execution_count": null,
   "outputs": [],
   "source": [
    "output.to_csv('submission1.csv')"
   ],
   "metadata": {
    "collapsed": false,
    "pycharm": {
     "name": "#%%\n"
    }
   }
  },
  {
   "cell_type": "code",
   "execution_count": null,
   "outputs": [],
   "source": [
    "predictions.shape"
   ],
   "metadata": {
    "collapsed": false,
    "pycharm": {
     "name": "#%%\n"
    }
   }
  },
  {
   "cell_type": "markdown",
   "source": [
    "# AUC"
   ],
   "metadata": {
    "collapsed": false
   }
  },
  {
   "cell_type": "code",
   "execution_count": null,
   "outputs": [],
   "source": [
    "from sklearn import metrics\n",
    "fpr, tpr, threshold = metrics.roc_curve(test_data.is_click, predictions)\n",
    "roc_auc = metrics.auc(fpr, tpr)"
   ],
   "metadata": {
    "collapsed": false,
    "pycharm": {
     "name": "#%%\n"
    }
   }
  },
  {
   "cell_type": "code",
   "execution_count": null,
   "outputs": [],
   "source": [
    "roc_auc\n",
    "\n"
   ],
   "metadata": {
    "collapsed": false,
    "pycharm": {
     "name": "#%%\n"
    }
   }
  }
 ],
 "metadata": {
  "kernelspec": {
   "display_name": "Python 3",
   "language": "python",
   "name": "python3"
  },
  "language_info": {
   "codemirror_mode": {
    "name": "ipython",
    "version": 3
   },
   "file_extension": ".py",
   "mimetype": "text/x-python",
   "name": "python",
   "nbconvert_exporter": "python",
   "pygments_lexer": "ipython3",
   "version": "3.7.7"
  },
  "pycharm": {
   "stem_cell": {
    "cell_type": "raw",
    "source": [],
    "metadata": {
     "collapsed": false
    }
   }
  }
 },
 "nbformat": 4,
 "nbformat_minor": 1
}