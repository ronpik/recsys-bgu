{
 "cells": [
  {
   "cell_type": "code",
   "execution_count": 1,
   "metadata": {
    "collapsed": true,
    "pycharm": {
     "is_executing": false
    }
   },
   "outputs": [],
   "source": [
    "from collections import Counter\n",
    "import pandas as pd\n",
    "import logging\n",
    "import os"
   ]
  },
  {
   "cell_type": "markdown",
   "source": [
    "## Data"
   ],
   "metadata": {
    "collapsed": false
   }
  },
  {
   "cell_type": "code",
   "execution_count": 2,
   "outputs": [],
   "source": [
    "sample = pd.read_csv(str(\"part-00002.csv\"))"
   ],
   "metadata": {
    "collapsed": false,
    "pycharm": {
     "name": "#%%\n",
     "is_executing": false
    }
   }
  },
  {
   "cell_type": "code",
   "execution_count": 3,
   "outputs": [
    {
     "data": {
      "text/plain": "   page_view_start_time                                       user_id_hash  \\\n0         1586972175040  cc720429312f18d7b2e4c113c6f48cef3d16836b7fdce0...   \n1         1586553332086  d8bc219c47b2570fea85d82b9df00973487e8ab1ca76e1...   \n2         1586231495787  ed8ddb92498f13f88101c13e0a26fdcc87db5d929c17d2...   \n3         1586720067383  f2b6bcf14717b7148cb8f92cbcbecb3a9ff24607b0a5c9...   \n4         1586820341555  6ea6706128c562661fd6ec45ea2521a9f2837c8c9d5078...   \n\n                                      target_id_hash  \\\n0  e47742764f99fbe66f06369af9557667a87acf3d7942a1...   \n1  cfbc031f0bacfa09f2a70a02c1024711d2e7ef205e9339...   \n2  c775af6de0b254897ec4d00d174e298a6d34dd6e2c104b...   \n3  b62da02a3fc769b747ec9de5bc90d988646ef35ad39873...   \n4  a07a13aa1a83706186e4bf205ba79c614697284a059e08...   \n\n                                  syndicator_id_hash  \\\n0  f7fc333375dc274f0c94a23df0b3768404f87195742a6e...   \n1  888081c07a6adc27ad51bde46544a5fe2f803e8293e561...   \n2  100328dbbf569e6848665b2cd40823e7dde2175050d987...   \n3  778263b6cc984e65c497d16b7fec917c3230cbdcc56fa1...   \n4  a517d24ada92fc973f1612bd27ce716ff506485868d441...   \n\n                                    campaign_id_hash  empiric_calibrated_recs  \\\n0  8681b856166e1e7f002f6a2607a4e2ba35ec4d9ce9812e...                129.53584   \n1  7b4c9ccff73b03f8d6c41d8b2dd4d190f387081b7e5b2c...                357.14075   \n2  6801569fe0d16817528745e61b4897202634ea9905a5f2...                298.30496   \n3  e7b35c85695999bbcbfc4d10b932c5e8b6b52d5720237e...              50006.86300   \n4  b8abf8828615be8732cbe1589fa2c8f4fd8cecb5bca791...              15547.64200   \n\n   empiric_clicks target_item_taxonomy  \\\n0           930.0          LIFE~TRAVEL   \n1          1286.0            LIFE~PETS   \n2           139.0            LIFE~HOME   \n3         64460.0                 TECH   \n4          7094.0          LIFE~HEALTH   \n\n                                   placement_id_hash  user_recs  ...  \\\n0  251974fe3b996b3c952690db23c62aa3698a99e46ee022...     1051.0  ...   \n1  970f1987570a4ece129c056ddf4de53b1f43b0882ea65c...     1074.0  ...   \n2  3ce0dc6ef6be59d27da0a3ecbd2b5b28c88bf5e3a98bc9...      320.0  ...   \n3  39d46cdd8f08693dd0cb967d016efec97d0bc5eb1899dc...      206.0  ...   \n4  f46a38c5c8d89917121df61f7a725748354c47dfc79cfe...        0.0  ...   \n\n                                      source_id_hash  source_item_type  \\\n0  acefa4deefb13b8d19cbe262528f5c3532bc7f0363e4c3...              text   \n1  4c7987d659b97d2007c45bb3c9fd903b135a2ef18130f7...          homepage   \n2  09bb81e4503b782e80b2c802ad08576f39f76cc4c466dd...              text   \n3  c83159630182a5b7bc3c3fc985156c03b2a43129d63376...          homepage   \n4  c83159630182a5b7bc3c3fc985156c03b2a43129d63376...          homepage   \n\n  browser_platform os_family country_code region  day_of_week time_of_day  \\\n0             DESK         6           US     NH            3          13   \n1             DESK         6           US     NV            5          14   \n2             DESK         6           US     NY            1          23   \n3             DESK         6           US     AR            0          14   \n4             DESK         6           US     GA            1          19   \n\n  gmt_offset  is_click  \n0       -400       1.0  \n1       -700       0.0  \n2       -400       0.0  \n3       -500       1.0  \n4       -400       0.0  \n\n[5 rows x 23 columns]",
      "text/html": "<div>\n<style scoped>\n    .dataframe tbody tr th:only-of-type {\n        vertical-align: middle;\n    }\n\n    .dataframe tbody tr th {\n        vertical-align: top;\n    }\n\n    .dataframe thead th {\n        text-align: right;\n    }\n</style>\n<table border=\"1\" class=\"dataframe\">\n  <thead>\n    <tr style=\"text-align: right;\">\n      <th></th>\n      <th>page_view_start_time</th>\n      <th>user_id_hash</th>\n      <th>target_id_hash</th>\n      <th>syndicator_id_hash</th>\n      <th>campaign_id_hash</th>\n      <th>empiric_calibrated_recs</th>\n      <th>empiric_clicks</th>\n      <th>target_item_taxonomy</th>\n      <th>placement_id_hash</th>\n      <th>user_recs</th>\n      <th>...</th>\n      <th>source_id_hash</th>\n      <th>source_item_type</th>\n      <th>browser_platform</th>\n      <th>os_family</th>\n      <th>country_code</th>\n      <th>region</th>\n      <th>day_of_week</th>\n      <th>time_of_day</th>\n      <th>gmt_offset</th>\n      <th>is_click</th>\n    </tr>\n  </thead>\n  <tbody>\n    <tr>\n      <th>0</th>\n      <td>1586972175040</td>\n      <td>cc720429312f18d7b2e4c113c6f48cef3d16836b7fdce0...</td>\n      <td>e47742764f99fbe66f06369af9557667a87acf3d7942a1...</td>\n      <td>f7fc333375dc274f0c94a23df0b3768404f87195742a6e...</td>\n      <td>8681b856166e1e7f002f6a2607a4e2ba35ec4d9ce9812e...</td>\n      <td>129.53584</td>\n      <td>930.0</td>\n      <td>LIFE~TRAVEL</td>\n      <td>251974fe3b996b3c952690db23c62aa3698a99e46ee022...</td>\n      <td>1051.0</td>\n      <td>...</td>\n      <td>acefa4deefb13b8d19cbe262528f5c3532bc7f0363e4c3...</td>\n      <td>text</td>\n      <td>DESK</td>\n      <td>6</td>\n      <td>US</td>\n      <td>NH</td>\n      <td>3</td>\n      <td>13</td>\n      <td>-400</td>\n      <td>1.0</td>\n    </tr>\n    <tr>\n      <th>1</th>\n      <td>1586553332086</td>\n      <td>d8bc219c47b2570fea85d82b9df00973487e8ab1ca76e1...</td>\n      <td>cfbc031f0bacfa09f2a70a02c1024711d2e7ef205e9339...</td>\n      <td>888081c07a6adc27ad51bde46544a5fe2f803e8293e561...</td>\n      <td>7b4c9ccff73b03f8d6c41d8b2dd4d190f387081b7e5b2c...</td>\n      <td>357.14075</td>\n      <td>1286.0</td>\n      <td>LIFE~PETS</td>\n      <td>970f1987570a4ece129c056ddf4de53b1f43b0882ea65c...</td>\n      <td>1074.0</td>\n      <td>...</td>\n      <td>4c7987d659b97d2007c45bb3c9fd903b135a2ef18130f7...</td>\n      <td>homepage</td>\n      <td>DESK</td>\n      <td>6</td>\n      <td>US</td>\n      <td>NV</td>\n      <td>5</td>\n      <td>14</td>\n      <td>-700</td>\n      <td>0.0</td>\n    </tr>\n    <tr>\n      <th>2</th>\n      <td>1586231495787</td>\n      <td>ed8ddb92498f13f88101c13e0a26fdcc87db5d929c17d2...</td>\n      <td>c775af6de0b254897ec4d00d174e298a6d34dd6e2c104b...</td>\n      <td>100328dbbf569e6848665b2cd40823e7dde2175050d987...</td>\n      <td>6801569fe0d16817528745e61b4897202634ea9905a5f2...</td>\n      <td>298.30496</td>\n      <td>139.0</td>\n      <td>LIFE~HOME</td>\n      <td>3ce0dc6ef6be59d27da0a3ecbd2b5b28c88bf5e3a98bc9...</td>\n      <td>320.0</td>\n      <td>...</td>\n      <td>09bb81e4503b782e80b2c802ad08576f39f76cc4c466dd...</td>\n      <td>text</td>\n      <td>DESK</td>\n      <td>6</td>\n      <td>US</td>\n      <td>NY</td>\n      <td>1</td>\n      <td>23</td>\n      <td>-400</td>\n      <td>0.0</td>\n    </tr>\n    <tr>\n      <th>3</th>\n      <td>1586720067383</td>\n      <td>f2b6bcf14717b7148cb8f92cbcbecb3a9ff24607b0a5c9...</td>\n      <td>b62da02a3fc769b747ec9de5bc90d988646ef35ad39873...</td>\n      <td>778263b6cc984e65c497d16b7fec917c3230cbdcc56fa1...</td>\n      <td>e7b35c85695999bbcbfc4d10b932c5e8b6b52d5720237e...</td>\n      <td>50006.86300</td>\n      <td>64460.0</td>\n      <td>TECH</td>\n      <td>39d46cdd8f08693dd0cb967d016efec97d0bc5eb1899dc...</td>\n      <td>206.0</td>\n      <td>...</td>\n      <td>c83159630182a5b7bc3c3fc985156c03b2a43129d63376...</td>\n      <td>homepage</td>\n      <td>DESK</td>\n      <td>6</td>\n      <td>US</td>\n      <td>AR</td>\n      <td>0</td>\n      <td>14</td>\n      <td>-500</td>\n      <td>1.0</td>\n    </tr>\n    <tr>\n      <th>4</th>\n      <td>1586820341555</td>\n      <td>6ea6706128c562661fd6ec45ea2521a9f2837c8c9d5078...</td>\n      <td>a07a13aa1a83706186e4bf205ba79c614697284a059e08...</td>\n      <td>a517d24ada92fc973f1612bd27ce716ff506485868d441...</td>\n      <td>b8abf8828615be8732cbe1589fa2c8f4fd8cecb5bca791...</td>\n      <td>15547.64200</td>\n      <td>7094.0</td>\n      <td>LIFE~HEALTH</td>\n      <td>f46a38c5c8d89917121df61f7a725748354c47dfc79cfe...</td>\n      <td>0.0</td>\n      <td>...</td>\n      <td>c83159630182a5b7bc3c3fc985156c03b2a43129d63376...</td>\n      <td>homepage</td>\n      <td>DESK</td>\n      <td>6</td>\n      <td>US</td>\n      <td>GA</td>\n      <td>1</td>\n      <td>19</td>\n      <td>-400</td>\n      <td>0.0</td>\n    </tr>\n  </tbody>\n</table>\n<p>5 rows × 23 columns</p>\n</div>"
     },
     "metadata": {},
     "output_type": "execute_result",
     "execution_count": 3
    }
   ],
   "source": [
    "sample.head()"
   ],
   "metadata": {
    "collapsed": false,
    "pycharm": {
     "name": "#%%\n",
     "is_executing": false
    }
   }
  },
  {
   "cell_type": "code",
   "execution_count": 4,
   "outputs": [
    {
     "data": {
      "text/plain": "['target_id_hash:e47742764f99fbe66f06369af9557667a87acf3d7942a113d5f75dc243f6299d6b23fcb0ee02c102749dbce51f19f53cc4d66ac0712d93e1ae542b14feaf7c99',\n 'target_id_hash:unk',\n 'campaign_id_hash:8681b856166e1e7f002f6a2607a4e2ba35ec4d9ce9812e512bbf79ceaf38ec763adb1c09febe52c91c89672ac79d24afa88a24cd9177d2de50fbf4833a50c1ad',\n 'campaign_id_hash:7b4c9ccff73b03f8d6c41d8b2dd4d190f387081b7e5b2cea5f801fddc20a285d11ee4a5a70b103355377c4618893ac8b55d568a2655f27b10e56005bffe62887',\n 'campaign_id_hash:6801569fe0d16817528745e61b4897202634ea9905a5f273bf58f6ceee2e17d8b6a99796b1c37291b2acb6314a8e01bc2da35dccab0c0ca8d65805d17cf80cfc',\n 'campaign_id_hash:e7b35c85695999bbcbfc4d10b932c5e8b6b52d5720237e0a5e061640cc00e7a55356f4cde00b5a76ac084a5c1adbcc8f751de72a8ce1895ad66bc38ae543ea85',\n 'campaign_id_hash:b8abf8828615be8732cbe1589fa2c8f4fd8cecb5bca791d002a194192361d19f6230b343de77741cbdf54977dcd5f198954f20be4c778f9e7ce953bc41d8a94b',\n 'campaign_id_hash:cd6e4d573b3c52820bdad6da1ec9e729444dc5e5b9052e4cee77dd8ae2fe82838826a080e9dd04dbe57830655525feb65e389fdd1df5f645465b6375b32bcbc9',\n 'campaign_id_hash:865ac883c394f3cde7fcaa4403f045d16b38003b1c9eb57b748126d9fa28c9c45677c76e2cd8486d53ccff505fdbfb9c7a13d95357d2161c6f8b5656ee8ce015',\n 'campaign_id_hash:unk',\n 'syndicator_id_hash:f7fc333375dc274f0c94a23df0b3768404f87195742a6ecf7b8454caeb055c6d9112ebf2e44fdaeba5fc14f84966b6d6fe461ff041deea969696e977c10d6083',\n 'syndicator_id_hash:888081c07a6adc27ad51bde46544a5fe2f803e8293e56189e8776f5b0cbfc5baa78256dfd55530104a3216560ce7c7759d1c741d399d9dabeb43b59ed0271585',\n 'syndicator_id_hash:100328dbbf569e6848665b2cd40823e7dde2175050d9870d69b1d426fd934b6cca0921a2bf8138efbcbc412704540c12b2d2358895c40dbd758006b93d2808c9',\n 'syndicator_id_hash:778263b6cc984e65c497d16b7fec917c3230cbdcc56fa1f8a4ac452e755c5af3a5aa18fb13a2618caa06f0d12148799aacf5ca04cce23201ffb10596e115afcf',\n 'syndicator_id_hash:a517d24ada92fc973f1612bd27ce716ff506485868d4414ce95fbef324f20cdfcf25e75bbf934adb3b9001ff6a53d2a98886cb79445a6c41ac315d040754fd97',\n 'syndicator_id_hash:6780009d668567977b23e921eaf4a034b1e8d25f47e3fb7e9085eaabfb273400541a7e485fb770c78d554333f05e6bd6bb3faed664b6fcc71f60d61a8abe41b2',\n 'syndicator_id_hash:7f0dfaefb7d010b9327517367b242d199eaf711a202817df22deade406d7b4ae7ffd2ce70afce0dfc0d17cc31972a9d56730b736e143d49183fa0f07fc73e404',\n 'syndicator_id_hash:7bc91956d1f72e3949d6b53810f5f508ff8c554fe490a680486c1dbdd62e7afdb096faef526ceda903561212c3aa7909f02d0e02f11b4fbe0a9bd4741be7d5ee',\n 'syndicator_id_hash:94c6e68f4936cb8f9a62537225798bcd8f075a33c7cd4ad367f7c145a9b0424d67ae1b6129d35b4f20e9b2789421f3386e54ab940db01f95ba641deebd283b2b',\n 'syndicator_id_hash:30c0a09491a66fb37d112589b6e950ff722dfc8f6103f43aef59bd42ca2972ced4e0c0736768b2293d0f8a734fc7174ca0a73989050d91f51b387d6b7cba28c6',\n 'syndicator_id_hash:afa03db9769ab5d3f63eb4ce2d812d0071d4b9c8b156867ddf2f64079a707b74a685a69ebcbce42958dc77f7113344142789d87c01f735baea0dad48f3e214c2',\n 'syndicator_id_hash:d147305ff12eb4528dfd158cae20c10bf40ddfa7622223c992e661b9a1d9b026945bb46032495fbd39c050d53e6e44b66dbfb74a4d7720b5bc0da53d26629a9c',\n 'syndicator_id_hash:8d7eb7407a061811d481cf6c03351241f9e8a8a28457ef29caf72af5bae32db3269ab2b8eb4ca54aea34bf7113c50a885b806b4bfac5b8bd53c028b296354add',\n 'syndicator_id_hash:unk',\n 'placement_id_hash:251974fe3b996b3c952690db23c62aa3698a99e46ee0220f0b7f453955964056c66dbf8479545ef4b4ccf404be2e0f48b019cdad0ab92d6239260d60c1deacbc',\n 'placement_id_hash:970f1987570a4ece129c056ddf4de53b1f43b0882ea65c824aa9fd3561505bb4c9a1e34e689379376ecaebfe2d4976a1d3e6dbe76f3c0ba33aac622dd4e289f4',\n 'placement_id_hash:3ce0dc6ef6be59d27da0a3ecbd2b5b28c88bf5e3a98bc9f9c193d192aefe16f13f72389ad470944cbfd228270e850681bb7a06dc894a5e989a6b02691e76f2d5',\n 'placement_id_hash:39d46cdd8f08693dd0cb967d016efec97d0bc5eb1899dc98874114ffb7d7a5d358c0e40593db8602f3d1d42cec8b9924b944570010ab011b8bf6481c427431d4',\n 'placement_id_hash:f46a38c5c8d89917121df61f7a725748354c47dfc79cfe245c29c4a999194b40ef8b30e6411b431a34746960705c1439efba5296e84227f63a956910efe7d5f7',\n 'placement_id_hash:77de1750e42c8269e4f36cb4c4be23cef013ceab5cfc7a0972ffc2aec488f080873fda22b7605d6bd3e8d967d14d6092ebbef5a9bc32e71a96a9e72f37c74e5c',\n 'placement_id_hash:cabcfcb8a015416574616696adcf7c8e6bd07c3d46cc0894528ec03f29e6b7016c96e11e2f009407ab366247c6c9cce1a93cfb9c27867eebd51bbf9c8b8bca1b',\n 'placement_id_hash:f1b3343d5e6491da91d7c65d1ad3140bb1983eedb1ed2d36e792e32182b4d5b4c01fbcea23c6ba5182b8ad94b676d38a4f26ccaad42ccffb499d7255364b3d2b',\n 'placement_id_hash:3e169c2c7c217891ced33c35c10f01ba9b1a830e58ff240772e8298cd8b73185ce1b1bca45f61250679a563c5ce0274eae3262cda104a41e650b4394c0520185',\n 'placement_id_hash:429e0691394b340badacfbd4189e7d4de592eaf7c80d4c97fa3bc56d2a2348685f075778ae5c3b87aacfc5695b2cf5b3e7312c4a47f5a3f19a7eb09c7fdcc2ac',\n 'placement_id_hash:932fbd7955800fd5a36f071a7e74f18343c263cf4bd950c6c8a32b804f6951e9f0eba75481b25d30c6375b65ec87186479d4c4f561984e33203cf4a7ff5d7370',\n 'placement_id_hash:082bbc538cc7b5b016cc88289c4b8aee2fa5e3963dfa77825e9f47e1e1d3a7cf2dfed110a076c94bb467b07ce22eb54581e2f9d636370790b4428a6acfa31556',\n 'placement_id_hash:c6c97bd91dab8077617305d4dc9be2c1dfe6aba106f08b64f3bc0fd2ba72db9a83d386356c1a14ed89a1eded79132c2d222113a3e5effd66f800132812cab840',\n 'placement_id_hash:d016615fd0d41dc3dcc4d36ba1f0fddeda327864ded9b56a4569f312271f3838afd45c1441254e50a42e8d7f0f9466f3749aedf80ed908ed534eb96566871e33',\n 'placement_id_hash:07b5f88799170cc2f80c9fa4bd24d009c7bdf0f06e61eef469e6541f98bc92d0a1382de1455449cd0cec3232ce63d07a8c560abda3f3b1154c36e468121e04f3',\n 'placement_id_hash:3df5c61ea574ff3b3df24ce8d6479af393d1df050481506948611bd2b1b8bed4182f443bc0071c5098987458ba48d00f4548c6014444536a67fc60736b35333e',\n 'placement_id_hash:125d8085eda0e94c81ab67b07830c2ebce53da12544dc7b1158fca8d8796323409c6a2e21fdbe7af7f110616b9c403d7f3a8b59390abef633cfdcb204d746da3',\n 'placement_id_hash:85a3211e9e86f8a37e3fe13e116bdf103ba9a278fe58e4f594a4c6e1ee1452f5c836a8489bc091cfd29a6e95ea6a5b19caa3379f9aa3c5389efb5aa486fb1aa2',\n 'placement_id_hash:6055091bd2f1c62e48ee3cb89c8e7f0829edc6a05e9f9419d9463b6ea2bce669b4db005c6fc83ced0971219921304820d3d0c88e8021ee430a5de26a44dd49b4',\n 'placement_id_hash:b1c0e2baa89e19c667a4c77835b2b1ccbbe87960f6a64b9f0fc20e5fcdf32aaced508d2ce415e9c9295c58450c445b36d19c120fb9e71fba8ed831fc190917de',\n 'placement_id_hash:1fd7638e7057ac3ca2507f63cd5ac719375386f51a15b132d2e70049a8d7fae69ea6db63e60f9bd0b8d1f7caeccf95ca172b4ef7304543877ba1dcbc7bb5b1ee',\n 'placement_id_hash:3946bcf55580d76c92c83f42a44bdf62e1e54740b486464c031847a29ddc89aad444449612aa3437ee77fc8897a70561edb3acd5a6ed80d8585d84a55d81733c',\n 'placement_id_hash:6ca5ee3be6cc189d7d7c22317050c0243e852937d5ae588f2205fb43c43b1c74015e43e320516e5608072d32375b2c485dfbcebbfeff66869c0480bda60a29c5',\n 'placement_id_hash:a92a981ae7f7c325506aa019c802f2f5e1ff1ede37b1b09399af26a9dc7000ad0427c6a898c97ee1c775c6ffbb06e1b3de9be36eac6976b13945b72a7fbac865',\n 'placement_id_hash:b56b294dc7665d9e5a5197af5f505f75987e5263062c8a21464a53d09ad68e269fc70026b3b4f9e270e67e2a0816189b15688d103b5774dc742b41be2b24f09b',\n 'placement_id_hash:376b35ba3f125bd63c37fe8e1577379f3fca0378c55bcb8cb3469f0b85a9cf938971f462e7de0963da4b38384221ee72ff7f53fe065fd26c13f2c5439a6912b7',\n 'placement_id_hash:dfe90564bff06258ecd5353d1d29e10ded45fd50a9f632bad452faa5d9a5d61d7b2952bc4dc481411c2138c44d870787fea5b1fbf4eaa690945bef52b332cf9e',\n 'placement_id_hash:unk',\n 'source_id_hash:acefa4deefb13b8d19cbe262528f5c3532bc7f0363e4c35ffaa700bedf82a992c1f1b29970f397bdd67da5cbf3558aecfcd8498d62b2ab04e49d0a7dbba98116',\n 'source_id_hash:4c7987d659b97d2007c45bb3c9fd903b135a2ef18130f7bae03ce4daa403c1be16116ff69e52f755055e187efaaa356659824b3a9936553cc11fe96aebf178e8',\n 'source_id_hash:09bb81e4503b782e80b2c802ad08576f39f76cc4c466dd4de4d438fd1cd11d6c6a7b92300bbda0b9a08b21abec5c5693c53d92c861e1a96b3b325ca0db4be3de',\n 'source_id_hash:c83159630182a5b7bc3c3fc985156c03b2a43129d6337622f290e2071c9e103661f473032e7839658b0f59a8a8802cf8c90b0b09ee75d5733050079ecf5c7c46',\n 'source_id_hash:unk',\n 'country_code:US',\n 'country_code:NG',\n 'country_code:IN',\n 'country_code:RU',\n 'country_code:PR',\n 'country_code:RO',\n 'country_code:AU',\n 'country_code:IR',\n 'country_code:DE',\n 'country_code:AT',\n 'country_code:PL',\n 'country_code:NL',\n 'country_code:HK',\n 'country_code:LB',\n 'country_code:BE',\n 'country_code:TT',\n 'country_code:KR',\n 'country_code:PH',\n 'country_code:SG',\n 'country_code:LK',\n 'country_code:FR',\n 'country_code:unk',\n 'region:NH',\n 'region:NV',\n 'region:NY',\n 'region:AR',\n 'region:GA',\n 'region:PA',\n 'region:TX',\n 'region:WA',\n 'region:CA',\n 'region:KS',\n 'region:MT',\n 'region:OH',\n 'region:CO',\n 'region:MI',\n 'region:DC',\n 'region:NC',\n 'region:FL',\n 'region:NE',\n 'region:ND',\n 'region:ID',\n 'region:KY',\n 'region:MA',\n 'region:WI',\n 'region:SC',\n 'region:AL',\n 'region:TN',\n 'region:OR',\n 'region:WV',\n 'region:NJ',\n 'region:UT',\n 'region:MN',\n 'region:OK',\n 'region:MD',\n 'region:VA',\n 'region:IA',\n 'region:IL',\n 'region:AZ',\n 'region:LA',\n 'region:IN',\n 'region:unk',\n 'publisher_id_hash:848b127dbd0f3a647581f4a95325f5204f4577ad7956f6ccaee6bf1eec0c399e6b02015827a95741ae041adc2438fbd494076ece7796a5f6cf4eab29e1079cf3',\n 'publisher_id_hash:c29a980222a2a97b74ffbd067f2a4ce760e3e8d8f024944fbd55d0ecbec178d4fc94c38d88a56a177a1c302f47ac1293dbbed50638455d50b1769daedbd33aaf',\n 'publisher_id_hash:f8a7ba9b7c9b05464ee98daac522b3f3d2376453c70e57de45b65e65a06b3b45fedd82ec18291bb4e432f3a172893424a81bab47dad1b4355b68552cda00583a',\n 'source_item_type:text',\n 'source_item_type:homepage',\n 'source_item_type:photo',\n 'source_item_type:video',\n 'source_item_type:category',\n 'browser_platform:DESK',\n 'browser_platform:PHON',\n 'browser_platform:TBLT',\n 'browser_platform:TV',\n 'os_family:6',\n 'os_family:2',\n 'os_family:3',\n 'os_family:5',\n 'os_family:1',\n 'os_family:4',\n 'os_family:0',\n 'tax0:LIFE',\n 'tax0:TECH',\n 'tax0:ENTERTAINMENT',\n 'tax0:BUSINESS',\n 'tax0:UNKNOWN',\n 'tax0:SPORTS',\n 'tax0:AUTOS',\n 'tax0:NEWS',\n 'tax0:OPINIONS',\n 'tax0:INDIA',\n 'tax0:ENVIRONMENT',\n 'tax0:HUMOR',\n 'tax0:HISTORY',\n 'tax0:OBSOLETE',\n 'tax1:TRAVEL',\n 'tax1:PETS',\n 'tax1:HOME',\n 'tax1:NO_CATEGORY',\n 'tax1:HEALTH',\n 'tax1:MUSIC',\n 'tax1:FINANCE',\n 'tax1:FASHION',\n 'tax1:FOOTBALL',\n 'tax1:ANIMALS',\n 'tax1:SOCIETY',\n 'tax1:BASKETBALL',\n 'tax1:RELIGION',\n 'tax1:CAREERS',\n 'tax1:FOOD',\n 'tax1:FIGHTING',\n 'tax1:ARMED-CONFLICT',\n 'tax1:CELEBS',\n 'tax1:EDUCATION',\n 'tax1:FAMILY',\n 'tax1:HEALTH-AND-FITNESS',\n 'tax1:SHOPPING',\n 'tax1:INVESTING',\n 'tax1:MIDDLE-EAST',\n 'tax1:SCIENCE',\n 'tax1:FOREIGN-AFFAIRS',\n 'tax1:MOBILE',\n 'tax1:REAL-ESTATE',\n 'tax1:POLITICS',\n 'tax1:WORLD',\n 'tax1:ELECTRONICS',\n 'tax1:BEAUTY',\n 'tax1:COMEDY',\n 'tax1:TV',\n 'tax1:GAMING',\n 'tax1:WOMEN',\n 'tax1:LAW-ENFORCEMENT',\n 'tax1:ART',\n 'tax1:HOBBIES-AND-INTERESTS',\n 'tax1:SEX',\n 'tax1:NATURE',\n 'tax1:TENNIS',\n 'tax1:CULTURE',\n 'tax1:HOCKEY',\n 'tax1:WEB',\n 'tax1:WEATHER',\n 'tax2:NO_CATEGORY',\n 'tax2:CHRISTIANITY',\n 'tax2:NHL',\n 'tax0:LIFE',\n 'tax0:TECH',\n 'tax0:ENTERTAINMENT',\n 'tax0:BUSINESS',\n 'tax0:UNKNOWN',\n 'tax0:SPORTS',\n 'tax0:AUTOS',\n 'tax0:NEWS',\n 'tax0:OPINIONS',\n 'tax0:INDIA',\n 'tax0:ENVIRONMENT',\n 'tax0:HUMOR',\n 'tax0:HISTORY',\n 'tax0:OBSOLETE',\n 'tax1:TRAVEL',\n 'tax1:PETS',\n 'tax1:HOME',\n 'tax1:NO_CATEGORY',\n 'tax1:HEALTH',\n 'tax1:MUSIC',\n 'tax1:FINANCE',\n 'tax1:FASHION',\n 'tax1:FOOTBALL',\n 'tax1:ANIMALS',\n 'tax1:SOCIETY',\n 'tax1:BASKETBALL',\n 'tax1:RELIGION',\n 'tax1:CAREERS',\n 'tax1:FOOD',\n 'tax1:FIGHTING',\n 'tax1:ARMED-CONFLICT',\n 'tax1:CELEBS',\n 'tax1:EDUCATION',\n 'tax1:FAMILY',\n 'tax1:HEALTH-AND-FITNESS',\n 'tax1:SHOPPING',\n 'tax1:INVESTING',\n 'tax1:MIDDLE-EAST',\n 'tax1:SCIENCE',\n 'tax1:FOREIGN-AFFAIRS',\n 'tax1:MOBILE',\n 'tax1:REAL-ESTATE',\n 'tax1:POLITICS',\n 'tax1:WORLD',\n 'tax1:ELECTRONICS',\n 'tax1:BEAUTY',\n 'tax1:COMEDY',\n 'tax1:TV',\n 'tax1:GAMING',\n 'tax1:WOMEN',\n 'tax1:LAW-ENFORCEMENT',\n 'tax1:ART',\n 'tax1:HOBBIES-AND-INTERESTS',\n 'tax1:SEX',\n 'tax1:NATURE',\n 'tax1:TENNIS',\n 'tax1:CULTURE',\n 'tax1:HOCKEY',\n 'tax1:WEB',\n 'tax1:WEATHER',\n 'tax2:NO_CATEGORY',\n 'tax2:CHRISTIANITY',\n 'tax2:NHL',\n 'tax0:LIFE',\n 'tax0:TECH',\n 'tax0:ENTERTAINMENT',\n 'tax0:BUSINESS',\n 'tax0:UNKNOWN',\n 'tax0:SPORTS',\n 'tax0:AUTOS',\n 'tax0:NEWS',\n 'tax0:OPINIONS',\n 'tax0:INDIA',\n 'tax0:ENVIRONMENT',\n 'tax0:HUMOR',\n 'tax0:HISTORY',\n 'tax0:OBSOLETE',\n 'tax1:TRAVEL',\n 'tax1:PETS',\n 'tax1:HOME',\n 'tax1:NO_CATEGORY',\n 'tax1:HEALTH',\n 'tax1:MUSIC',\n 'tax1:FINANCE',\n 'tax1:FASHION',\n 'tax1:FOOTBALL',\n 'tax1:ANIMALS',\n 'tax1:SOCIETY',\n 'tax1:BASKETBALL',\n 'tax1:RELIGION',\n 'tax1:CAREERS',\n 'tax1:FOOD',\n 'tax1:FIGHTING',\n 'tax1:ARMED-CONFLICT',\n 'tax1:CELEBS',\n 'tax1:EDUCATION',\n 'tax1:FAMILY',\n 'tax1:HEALTH-AND-FITNESS',\n 'tax1:SHOPPING',\n 'tax1:INVESTING',\n 'tax1:MIDDLE-EAST',\n 'tax1:SCIENCE',\n 'tax1:FOREIGN-AFFAIRS',\n 'tax1:MOBILE',\n 'tax1:REAL-ESTATE',\n 'tax1:POLITICS',\n 'tax1:WORLD',\n 'tax1:ELECTRONICS',\n 'tax1:BEAUTY',\n 'tax1:COMEDY',\n 'tax1:TV',\n 'tax1:GAMING',\n 'tax1:WOMEN',\n 'tax1:LAW-ENFORCEMENT',\n 'tax1:ART',\n 'tax1:HOBBIES-AND-INTERESTS',\n 'tax1:SEX',\n 'tax1:NATURE',\n 'tax1:TENNIS',\n 'tax1:CULTURE',\n 'tax1:HOCKEY',\n 'tax1:WEB',\n 'tax1:WEATHER',\n 'tax2:NO_CATEGORY',\n 'tax2:CHRISTIANITY',\n 'tax2:NHL',\n 'users_clicks_ratio',\n 'user_target_recs_ratio',\n 'empiric_calibrated_recs',\n 'empiric_clicks',\n 'user_target_recs',\n 'user_clicks',\n 'user_recs',\n 'ad_view_time',\n 'day0',\n 'day1',\n 'day2',\n 'day3',\n 'day4',\n 'day5',\n 'day6',\n 'is_weekend',\n 'hour0',\n 'hour1',\n 'hour2',\n 'hour3',\n 'hour4',\n 'hour5',\n 'hour6',\n 'is_early_morning',\n 'is_morning',\n 'is_noon',\n 'is_afternoon',\n 'is_evening',\n 'is_night',\n 'gmt_offset']"
     },
     "metadata": {},
     "output_type": "execute_result",
     "execution_count": 4
    }
   ],
   "source": [
    "from kaggle.preprocess.features import FeaturesProcessor\n",
    "features_processor = FeaturesProcessor()\n",
    "features_processor.fit(sample)\n",
    "features_processor.features_names\n"
   ],
   "metadata": {
    "collapsed": false,
    "pycharm": {
     "name": "#%%\n",
     "is_executing": false
    }
   }
  },
  {
   "cell_type": "code",
   "execution_count": 5,
   "outputs": [
    {
     "name": "stdout",
     "text": [
      "(420217, 225)\n"
     ],
     "output_type": "stream"
    },
    {
     "data": {
      "text/plain": "array([[   1.,    0.,    1., ...,    0.,   13., -400.],\n       [   0.,    1.,    0., ...,    0.,   14., -700.],\n       [   0.,    1.,    0., ...,    1.,   23., -400.],\n       ...,\n       [   0.,    1.,    0., ...,    0.,    7., -400.],\n       [   0.,    1.,    0., ...,    0.,   22., -400.],\n       [   0.,    1.,    0., ...,    0.,   19., -400.]])"
     },
     "metadata": {},
     "output_type": "execute_result",
     "execution_count": 5
    }
   ],
   "source": [
    "features = features_processor.transform(sample)\n",
    "print(features.shape)\n",
    "features\n",
    "\n"
   ],
   "metadata": {
    "collapsed": false,
    "pycharm": {
     "name": "#%%\n",
     "is_executing": false
    }
   }
  }
 ],
 "metadata": {
  "kernelspec": {
   "display_name": "Python 3",
   "language": "python",
   "name": "python3"
  },
  "language_info": {
   "codemirror_mode": {
    "name": "ipython",
    "version": 2
   },
   "file_extension": ".py",
   "mimetype": "text/x-python",
   "name": "python",
   "nbconvert_exporter": "python",
   "pygments_lexer": "ipython2",
   "version": "2.7.6"
  },
  "pycharm": {
   "stem_cell": {
    "cell_type": "raw",
    "source": [],
    "metadata": {
     "collapsed": false
    }
   }
  }
 },
 "nbformat": 4,
 "nbformat_minor": 0
}