{
 "cells": [
  {
   "cell_type": "code",
   "execution_count": 1,
   "metadata": {
    "pycharm": {
     "is_executing": false
    }
   },
   "outputs": [],
   "source": [
    "from collections import Counter\n",
    "import pandas as pd\n",
    "import logging\n",
    "import os"
   ]
  },
  {
   "cell_type": "markdown",
   "metadata": {},
   "source": [
    "## Data"
   ]
  },
  {
   "cell_type": "code",
   "execution_count": 2,
   "metadata": {},
   "outputs": [],
   "source": [
    "train_path = \"/home/ron/fast-data/sample_data.csv\""
   ]
  },
  {
   "cell_type": "code",
   "execution_count": 3,
   "metadata": {
    "pycharm": {
     "is_executing": false,
     "name": "#%%\n"
    }
   },
   "outputs": [],
   "source": [
    "train_data = pd.read_csv(train_path)"
   ]
  },
  {
   "cell_type": "code",
   "execution_count": 4,
   "metadata": {
    "pycharm": {
     "is_executing": false,
     "name": "#%%\n"
    }
   },
   "outputs": [
    {
     "data": {
      "text/html": [
       "<div>\n",
       "<style scoped>\n",
       "    .dataframe tbody tr th:only-of-type {\n",
       "        vertical-align: middle;\n",
       "    }\n",
       "\n",
       "    .dataframe tbody tr th {\n",
       "        vertical-align: top;\n",
       "    }\n",
       "\n",
       "    .dataframe thead th {\n",
       "        text-align: right;\n",
       "    }\n",
       "</style>\n",
       "<table border=\"1\" class=\"dataframe\">\n",
       "  <thead>\n",
       "    <tr style=\"text-align: right;\">\n",
       "      <th></th>\n",
       "      <th>page_view_start_time</th>\n",
       "      <th>user_id_hash</th>\n",
       "      <th>target_id_hash</th>\n",
       "      <th>syndicator_id_hash</th>\n",
       "      <th>campaign_id_hash</th>\n",
       "      <th>empiric_calibrated_recs</th>\n",
       "      <th>empiric_clicks</th>\n",
       "      <th>target_item_taxonomy</th>\n",
       "      <th>placement_id_hash</th>\n",
       "      <th>user_recs</th>\n",
       "      <th>...</th>\n",
       "      <th>source_id_hash</th>\n",
       "      <th>source_item_type</th>\n",
       "      <th>browser_platform</th>\n",
       "      <th>os_family</th>\n",
       "      <th>country_code</th>\n",
       "      <th>region</th>\n",
       "      <th>day_of_week</th>\n",
       "      <th>time_of_day</th>\n",
       "      <th>gmt_offset</th>\n",
       "      <th>is_click</th>\n",
       "    </tr>\n",
       "  </thead>\n",
       "  <tbody>\n",
       "    <tr>\n",
       "      <th>0</th>\n",
       "      <td>1586392478339</td>\n",
       "      <td>939e2ccfb21e0ec9b0787c394dea1ae935369da0bcc597...</td>\n",
       "      <td>7349cb051df9c68532a2e4816aa1dc074141a7ce4a1236...</td>\n",
       "      <td>ebc206ae45aa38e5ffafafb3a91dc289d4a0838937c728...</td>\n",
       "      <td>df4a08d5f84793cb72cb0bfdb50e82a7f6ce6cae5701d7...</td>\n",
       "      <td>13107.24400</td>\n",
       "      <td>24312.0</td>\n",
       "      <td>UNKNOWN</td>\n",
       "      <td>2a1989e08355c7e9539e9b9a01c9a7f7869d75bf071b9b...</td>\n",
       "      <td>73.0</td>\n",
       "      <td>...</td>\n",
       "      <td>ec15d7e4d8e2717a592d339ce79beef7249bfc598278b8...</td>\n",
       "      <td>text</td>\n",
       "      <td>PHON</td>\n",
       "      <td>2</td>\n",
       "      <td>US</td>\n",
       "      <td>FL</td>\n",
       "      <td>3</td>\n",
       "      <td>20</td>\n",
       "      <td>-400</td>\n",
       "      <td>1.0</td>\n",
       "    </tr>\n",
       "    <tr>\n",
       "      <th>1</th>\n",
       "      <td>1587264330576</td>\n",
       "      <td>decc9bcd3a7f2807721a35368b362782ec5bf4b4fb7ecf...</td>\n",
       "      <td>415462704d29d1d343c78d2bb466402adc222f0969d5a9...</td>\n",
       "      <td>85d3c3f9981f84f4d10d01a9115962b99e00ef325ef20d...</td>\n",
       "      <td>076a73951276d40a877a8fc065cfbdd1cc4af5685d63c7...</td>\n",
       "      <td>129166.30000</td>\n",
       "      <td>103160.0</td>\n",
       "      <td>BUSINESS</td>\n",
       "      <td>94a75567cd09d67c3f74d15ee8d82dea79030a5f30a0f4...</td>\n",
       "      <td>43.0</td>\n",
       "      <td>...</td>\n",
       "      <td>389b69708cf58731e78e2e023a8c608d886fe5aebc0e23...</td>\n",
       "      <td>category</td>\n",
       "      <td>DESK</td>\n",
       "      <td>6</td>\n",
       "      <td>US</td>\n",
       "      <td>TX</td>\n",
       "      <td>6</td>\n",
       "      <td>21</td>\n",
       "      <td>-500</td>\n",
       "      <td>0.0</td>\n",
       "    </tr>\n",
       "    <tr>\n",
       "      <th>2</th>\n",
       "      <td>1586971453279</td>\n",
       "      <td>30b6851a72026b837c7b33190ec7684763f36a8cd7722c...</td>\n",
       "      <td>1487501fb59aa7bfdc8744fc839e30cf115d9dbdb9fe5c...</td>\n",
       "      <td>56657dd10b5a8391d470928f5f92192df442ec7b927bf3...</td>\n",
       "      <td>e90bf004fa3fd9ac170c239e425dbfedbef0453b93a5dd...</td>\n",
       "      <td>16507.39600</td>\n",
       "      <td>17779.0</td>\n",
       "      <td>ENTERTAINMENT~MUSIC</td>\n",
       "      <td>932fbd7955800fd5a36f071a7e74f18343c263cf4bd950...</td>\n",
       "      <td>61.0</td>\n",
       "      <td>...</td>\n",
       "      <td>afd2bead96464ae13fb61ba573ea503355865336dac9bf...</td>\n",
       "      <td>photo</td>\n",
       "      <td>PHON</td>\n",
       "      <td>2</td>\n",
       "      <td>US</td>\n",
       "      <td>TX</td>\n",
       "      <td>3</td>\n",
       "      <td>12</td>\n",
       "      <td>-500</td>\n",
       "      <td>1.0</td>\n",
       "    </tr>\n",
       "    <tr>\n",
       "      <th>3</th>\n",
       "      <td>1586446676383</td>\n",
       "      <td>0b03f7d7bfc9d81e55ebeb994d572ca65cca353e7aaf85...</td>\n",
       "      <td>8058abb5518bb536d98c395013fb9081368ed89cca5980...</td>\n",
       "      <td>daaee2d38f21a75a08d375e55802b3fdfc03cf21608ebd...</td>\n",
       "      <td>1633f7f86d0b74925000ec3ccb2662ae6e41a0de72669b...</td>\n",
       "      <td>965.36127</td>\n",
       "      <td>5513.0</td>\n",
       "      <td>LIFE~HEALTH</td>\n",
       "      <td>3e169c2c7c217891ced33c35c10f01ba9b1a830e58ff24...</td>\n",
       "      <td>357.0</td>\n",
       "      <td>...</td>\n",
       "      <td>12811e3e09990653423da6481b0a67215096ff5bbd2fba...</td>\n",
       "      <td>text</td>\n",
       "      <td>DESK</td>\n",
       "      <td>6</td>\n",
       "      <td>US</td>\n",
       "      <td>FL</td>\n",
       "      <td>4</td>\n",
       "      <td>11</td>\n",
       "      <td>-400</td>\n",
       "      <td>0.0</td>\n",
       "    </tr>\n",
       "    <tr>\n",
       "      <th>4</th>\n",
       "      <td>1587072791703</td>\n",
       "      <td>b46cb1c9681e58c0a09b88b82c36913cbf3f710674eb39...</td>\n",
       "      <td>d69f8bbef63a1c87fd253bfe1354894c06b194a2e6c30c...</td>\n",
       "      <td>2f216e3448659404205a319e9cada63f967871b2c3e0d5...</td>\n",
       "      <td>8171fbc15cbd58ba2a41db9445a84423ccff42cf91f035...</td>\n",
       "      <td>4976.14800</td>\n",
       "      <td>1974.0</td>\n",
       "      <td>BUSINESS</td>\n",
       "      <td>6207a672a60f19e0225b1ce438bfc5138af3f549787baa...</td>\n",
       "      <td>825.0</td>\n",
       "      <td>...</td>\n",
       "      <td>5e7a6ed11cdc1472ea91031bc66078c8ecd5283e2863d2...</td>\n",
       "      <td>text</td>\n",
       "      <td>DESK</td>\n",
       "      <td>6</td>\n",
       "      <td>US</td>\n",
       "      <td>CO</td>\n",
       "      <td>4</td>\n",
       "      <td>15</td>\n",
       "      <td>-600</td>\n",
       "      <td>0.0</td>\n",
       "    </tr>\n",
       "  </tbody>\n",
       "</table>\n",
       "<p>5 rows × 23 columns</p>\n",
       "</div>"
      ],
      "text/plain": [
       "   page_view_start_time                                       user_id_hash  \\\n",
       "0         1586392478339  939e2ccfb21e0ec9b0787c394dea1ae935369da0bcc597...   \n",
       "1         1587264330576  decc9bcd3a7f2807721a35368b362782ec5bf4b4fb7ecf...   \n",
       "2         1586971453279  30b6851a72026b837c7b33190ec7684763f36a8cd7722c...   \n",
       "3         1586446676383  0b03f7d7bfc9d81e55ebeb994d572ca65cca353e7aaf85...   \n",
       "4         1587072791703  b46cb1c9681e58c0a09b88b82c36913cbf3f710674eb39...   \n",
       "\n",
       "                                      target_id_hash  \\\n",
       "0  7349cb051df9c68532a2e4816aa1dc074141a7ce4a1236...   \n",
       "1  415462704d29d1d343c78d2bb466402adc222f0969d5a9...   \n",
       "2  1487501fb59aa7bfdc8744fc839e30cf115d9dbdb9fe5c...   \n",
       "3  8058abb5518bb536d98c395013fb9081368ed89cca5980...   \n",
       "4  d69f8bbef63a1c87fd253bfe1354894c06b194a2e6c30c...   \n",
       "\n",
       "                                  syndicator_id_hash  \\\n",
       "0  ebc206ae45aa38e5ffafafb3a91dc289d4a0838937c728...   \n",
       "1  85d3c3f9981f84f4d10d01a9115962b99e00ef325ef20d...   \n",
       "2  56657dd10b5a8391d470928f5f92192df442ec7b927bf3...   \n",
       "3  daaee2d38f21a75a08d375e55802b3fdfc03cf21608ebd...   \n",
       "4  2f216e3448659404205a319e9cada63f967871b2c3e0d5...   \n",
       "\n",
       "                                    campaign_id_hash  empiric_calibrated_recs  \\\n",
       "0  df4a08d5f84793cb72cb0bfdb50e82a7f6ce6cae5701d7...              13107.24400   \n",
       "1  076a73951276d40a877a8fc065cfbdd1cc4af5685d63c7...             129166.30000   \n",
       "2  e90bf004fa3fd9ac170c239e425dbfedbef0453b93a5dd...              16507.39600   \n",
       "3  1633f7f86d0b74925000ec3ccb2662ae6e41a0de72669b...                965.36127   \n",
       "4  8171fbc15cbd58ba2a41db9445a84423ccff42cf91f035...               4976.14800   \n",
       "\n",
       "   empiric_clicks target_item_taxonomy  \\\n",
       "0         24312.0              UNKNOWN   \n",
       "1        103160.0             BUSINESS   \n",
       "2         17779.0  ENTERTAINMENT~MUSIC   \n",
       "3          5513.0          LIFE~HEALTH   \n",
       "4          1974.0             BUSINESS   \n",
       "\n",
       "                                   placement_id_hash  user_recs  ...  \\\n",
       "0  2a1989e08355c7e9539e9b9a01c9a7f7869d75bf071b9b...       73.0  ...   \n",
       "1  94a75567cd09d67c3f74d15ee8d82dea79030a5f30a0f4...       43.0  ...   \n",
       "2  932fbd7955800fd5a36f071a7e74f18343c263cf4bd950...       61.0  ...   \n",
       "3  3e169c2c7c217891ced33c35c10f01ba9b1a830e58ff24...      357.0  ...   \n",
       "4  6207a672a60f19e0225b1ce438bfc5138af3f549787baa...      825.0  ...   \n",
       "\n",
       "                                      source_id_hash  source_item_type  \\\n",
       "0  ec15d7e4d8e2717a592d339ce79beef7249bfc598278b8...              text   \n",
       "1  389b69708cf58731e78e2e023a8c608d886fe5aebc0e23...          category   \n",
       "2  afd2bead96464ae13fb61ba573ea503355865336dac9bf...             photo   \n",
       "3  12811e3e09990653423da6481b0a67215096ff5bbd2fba...              text   \n",
       "4  5e7a6ed11cdc1472ea91031bc66078c8ecd5283e2863d2...              text   \n",
       "\n",
       "  browser_platform os_family country_code region  day_of_week time_of_day  \\\n",
       "0             PHON         2           US     FL            3          20   \n",
       "1             DESK         6           US     TX            6          21   \n",
       "2             PHON         2           US     TX            3          12   \n",
       "3             DESK         6           US     FL            4          11   \n",
       "4             DESK         6           US     CO            4          15   \n",
       "\n",
       "  gmt_offset  is_click  \n",
       "0       -400       1.0  \n",
       "1       -500       0.0  \n",
       "2       -500       1.0  \n",
       "3       -400       0.0  \n",
       "4       -600       0.0  \n",
       "\n",
       "[5 rows x 23 columns]"
      ]
     },
     "execution_count": 4,
     "metadata": {},
     "output_type": "execute_result"
    }
   ],
   "source": [
    "train_data.head()"
   ]
  },
  {
   "cell_type": "code",
   "execution_count": 5,
   "metadata": {
    "pycharm": {
     "is_executing": false,
     "name": "#%%\n"
    }
   },
   "outputs": [
    {
     "data": {
      "text/plain": [
       "23"
      ]
     },
     "execution_count": 5,
     "metadata": {},
     "output_type": "execute_result"
    }
   ],
   "source": [
    "len(train_data.columns)"
   ]
  },
  {
   "cell_type": "code",
   "execution_count": 6,
   "metadata": {},
   "outputs": [],
   "source": [
    "import sys\n",
    "sys.path.append(\"/home/ron/workspace/recsys-bgu\")"
   ]
  },
  {
   "cell_type": "code",
   "execution_count": 7,
   "metadata": {
    "pycharm": {
     "is_executing": false,
     "name": "#%%\n"
    }
   },
   "outputs": [
    {
     "data": {
      "text/plain": [
       "21393"
      ]
     },
     "execution_count": 7,
     "metadata": {},
     "output_type": "execute_result"
    }
   ],
   "source": [
    "from kaggle.preprocess.ohe_features import OHEFeaturesProcessor\n",
    "features_processor = OHEFeaturesProcessor()\n",
    "features_processor.fit(train_data)\n",
    "len(features_processor.features_names)\n"
   ]
  },
  {
   "cell_type": "code",
   "execution_count": 8,
   "metadata": {
    "pycharm": {
     "is_executing": false,
     "name": "#%%\n"
    }
   },
   "outputs": [
    {
     "name": "stdout",
     "output_type": "stream",
     "text": [
      "(1499999, 20623)\n"
     ]
    },
    {
     "data": {
      "text/plain": [
       "<1499999x20623 sparse matrix of type '<class 'numpy.float64'>'\n",
       "\twith 36840357 stored elements in Compressed Sparse Row format>"
      ]
     },
     "execution_count": 8,
     "metadata": {},
     "output_type": "execute_result"
    }
   ],
   "source": [
    "features = features_processor.transform(train_data)\n",
    "print(features.shape)\n",
    "features\n",
    "\n"
   ]
  },
  {
   "cell_type": "code",
   "execution_count": 9,
   "metadata": {},
   "outputs": [],
   "source": [
    "test_path = \"/home/ron/fast-data/test_file.csv\""
   ]
  },
  {
   "cell_type": "code",
   "execution_count": 10,
   "metadata": {},
   "outputs": [],
   "source": [
    "test_data = pd.read_csv(test_path)"
   ]
  },
  {
   "cell_type": "code",
   "execution_count": 11,
   "metadata": {},
   "outputs": [
    {
     "data": {
      "text/html": [
       "<div>\n",
       "<style scoped>\n",
       "    .dataframe tbody tr th:only-of-type {\n",
       "        vertical-align: middle;\n",
       "    }\n",
       "\n",
       "    .dataframe tbody tr th {\n",
       "        vertical-align: top;\n",
       "    }\n",
       "\n",
       "    .dataframe thead th {\n",
       "        text-align: right;\n",
       "    }\n",
       "</style>\n",
       "<table border=\"1\" class=\"dataframe\">\n",
       "  <thead>\n",
       "    <tr style=\"text-align: right;\">\n",
       "      <th></th>\n",
       "      <th>page_view_start_time</th>\n",
       "      <th>user_id_hash</th>\n",
       "      <th>target_id_hash</th>\n",
       "      <th>syndicator_id_hash</th>\n",
       "      <th>campaign_id_hash</th>\n",
       "      <th>empiric_calibrated_recs</th>\n",
       "      <th>empiric_clicks</th>\n",
       "      <th>target_item_taxonomy</th>\n",
       "      <th>placement_id_hash</th>\n",
       "      <th>user_recs</th>\n",
       "      <th>...</th>\n",
       "      <th>source_id_hash</th>\n",
       "      <th>source_item_type</th>\n",
       "      <th>browser_platform</th>\n",
       "      <th>os_family</th>\n",
       "      <th>country_code</th>\n",
       "      <th>region</th>\n",
       "      <th>day_of_week</th>\n",
       "      <th>time_of_day</th>\n",
       "      <th>gmt_offset</th>\n",
       "      <th>Id</th>\n",
       "    </tr>\n",
       "  </thead>\n",
       "  <tbody>\n",
       "    <tr>\n",
       "      <th>0</th>\n",
       "      <td>1587347971815</td>\n",
       "      <td>3fb5d9495b4b6165e83fd9fdeacd2f0293d20318bbd0a7...</td>\n",
       "      <td>ebd8438008f730178f63ac07d7e0398172451f28dc6390...</td>\n",
       "      <td>23fe2e33a8ac9193b148e252963cc7580757e0b0422010...</td>\n",
       "      <td>3287fbfb314c76ec3b9d4209628b6b8d25bc04772c7595...</td>\n",
       "      <td>6501.1090</td>\n",
       "      <td>18657.0</td>\n",
       "      <td>UNKNOWN</td>\n",
       "      <td>736ce0a301eb0c3da05800df13949e411684c97236aa22...</td>\n",
       "      <td>683.0</td>\n",
       "      <td>...</td>\n",
       "      <td>4c7987d659b97d2007c45bb3c9fd903b135a2ef18130f7...</td>\n",
       "      <td>homepage</td>\n",
       "      <td>DESK</td>\n",
       "      <td>5</td>\n",
       "      <td>US</td>\n",
       "      <td>TX</td>\n",
       "      <td>0</td>\n",
       "      <td>20</td>\n",
       "      <td>-500</td>\n",
       "      <td>0</td>\n",
       "    </tr>\n",
       "    <tr>\n",
       "      <th>1</th>\n",
       "      <td>1587359560809</td>\n",
       "      <td>26bd0dea68c5f65c286ead5f6a69218486cc965535ae39...</td>\n",
       "      <td>79f2e0095aca1d3afac3a4918f2fc77aa3dd386537447a...</td>\n",
       "      <td>377402b6b9107d4c2d3d7cd40218ab1578ffd15554a2c7...</td>\n",
       "      <td>26443482ee16a2b3653fab3cbf84eb2c3931520a985db5...</td>\n",
       "      <td>1360.8755</td>\n",
       "      <td>7444.0</td>\n",
       "      <td>SPORTS~FIGHTING</td>\n",
       "      <td>911f042701f83ed9e2c3ee0951dd2f9e1dc0302ca5a03a...</td>\n",
       "      <td>83.0</td>\n",
       "      <td>...</td>\n",
       "      <td>c83159630182a5b7bc3c3fc985156c03b2a43129d63376...</td>\n",
       "      <td>homepage</td>\n",
       "      <td>DESK</td>\n",
       "      <td>6</td>\n",
       "      <td>US</td>\n",
       "      <td>AZ</td>\n",
       "      <td>0</td>\n",
       "      <td>22</td>\n",
       "      <td>-700</td>\n",
       "      <td>1</td>\n",
       "    </tr>\n",
       "    <tr>\n",
       "      <th>2</th>\n",
       "      <td>1587397303992</td>\n",
       "      <td>1f4ab77f1707596f99861d16b3ca177eefc86dc0fbc4b9...</td>\n",
       "      <td>8b0b508ee3e64a6394ba199fc546afb8bb8423ed5fd560...</td>\n",
       "      <td>0ca265400306058ef19da77fc2486a6be975aa9cddb8f4...</td>\n",
       "      <td>3bd3fc41bbee44113f90a42d246666088459ba3b57c58c...</td>\n",
       "      <td>7411.1694</td>\n",
       "      <td>32410.0</td>\n",
       "      <td>UNKNOWN</td>\n",
       "      <td>e317ff755817004b9268a99b1671e53f73b44535c926ed...</td>\n",
       "      <td>2829.0</td>\n",
       "      <td>...</td>\n",
       "      <td>389b69708cf58731e78e2e023a8c608d886fe5aebc0e23...</td>\n",
       "      <td>category</td>\n",
       "      <td>DESK</td>\n",
       "      <td>6</td>\n",
       "      <td>US</td>\n",
       "      <td>NC</td>\n",
       "      <td>1</td>\n",
       "      <td>11</td>\n",
       "      <td>-400</td>\n",
       "      <td>2</td>\n",
       "    </tr>\n",
       "    <tr>\n",
       "      <th>3</th>\n",
       "      <td>1587341629681</td>\n",
       "      <td>f183602e0fe86592a106e62230d05ecc02212be60def80...</td>\n",
       "      <td>1077d1cd2590b9318ce5bf1b63f323706d9b3734234640...</td>\n",
       "      <td>fe55e950d29575f0dd1a02958cedaeb271ca167482c1bc...</td>\n",
       "      <td>1b40924dcbe3fe73d7ba308be724d722c6279ace116e78...</td>\n",
       "      <td>62687.1170</td>\n",
       "      <td>70074.0</td>\n",
       "      <td>LIFE~HEALTH-AND-FITNESS</td>\n",
       "      <td>736ce0a301eb0c3da05800df13949e411684c97236aa22...</td>\n",
       "      <td>59.0</td>\n",
       "      <td>...</td>\n",
       "      <td>4c7987d659b97d2007c45bb3c9fd903b135a2ef18130f7...</td>\n",
       "      <td>homepage</td>\n",
       "      <td>DESK</td>\n",
       "      <td>6</td>\n",
       "      <td>US</td>\n",
       "      <td>IN</td>\n",
       "      <td>0</td>\n",
       "      <td>20</td>\n",
       "      <td>-400</td>\n",
       "      <td>3</td>\n",
       "    </tr>\n",
       "    <tr>\n",
       "      <th>4</th>\n",
       "      <td>1587409279745</td>\n",
       "      <td>b94e3fe0943987d4139f13b7e250a055b78d6b3c7f6805...</td>\n",
       "      <td>6cfd767d66e6eebf5d9189084468aa98c7e2a879239c28...</td>\n",
       "      <td>c7375d39e509e304c7227d74acbb320a838711c73d4bb7...</td>\n",
       "      <td>1c8cde564ce4aa20b8e4722d5587d9af2e7ca23bfc0086...</td>\n",
       "      <td>18061.8930</td>\n",
       "      <td>19145.0</td>\n",
       "      <td>BUSINESS</td>\n",
       "      <td>51211bda213f6341e3a7db1f2ffa866075e5484f31b544...</td>\n",
       "      <td>56.0</td>\n",
       "      <td>...</td>\n",
       "      <td>c26defddc8604a0e23963eaccbfa40bd1f172f4e3cc5a9...</td>\n",
       "      <td>photo</td>\n",
       "      <td>DESK</td>\n",
       "      <td>6</td>\n",
       "      <td>US</td>\n",
       "      <td>GA</td>\n",
       "      <td>1</td>\n",
       "      <td>15</td>\n",
       "      <td>-400</td>\n",
       "      <td>4</td>\n",
       "    </tr>\n",
       "  </tbody>\n",
       "</table>\n",
       "<p>5 rows × 23 columns</p>\n",
       "</div>"
      ],
      "text/plain": [
       "   page_view_start_time                                       user_id_hash  \\\n",
       "0         1587347971815  3fb5d9495b4b6165e83fd9fdeacd2f0293d20318bbd0a7...   \n",
       "1         1587359560809  26bd0dea68c5f65c286ead5f6a69218486cc965535ae39...   \n",
       "2         1587397303992  1f4ab77f1707596f99861d16b3ca177eefc86dc0fbc4b9...   \n",
       "3         1587341629681  f183602e0fe86592a106e62230d05ecc02212be60def80...   \n",
       "4         1587409279745  b94e3fe0943987d4139f13b7e250a055b78d6b3c7f6805...   \n",
       "\n",
       "                                      target_id_hash  \\\n",
       "0  ebd8438008f730178f63ac07d7e0398172451f28dc6390...   \n",
       "1  79f2e0095aca1d3afac3a4918f2fc77aa3dd386537447a...   \n",
       "2  8b0b508ee3e64a6394ba199fc546afb8bb8423ed5fd560...   \n",
       "3  1077d1cd2590b9318ce5bf1b63f323706d9b3734234640...   \n",
       "4  6cfd767d66e6eebf5d9189084468aa98c7e2a879239c28...   \n",
       "\n",
       "                                  syndicator_id_hash  \\\n",
       "0  23fe2e33a8ac9193b148e252963cc7580757e0b0422010...   \n",
       "1  377402b6b9107d4c2d3d7cd40218ab1578ffd15554a2c7...   \n",
       "2  0ca265400306058ef19da77fc2486a6be975aa9cddb8f4...   \n",
       "3  fe55e950d29575f0dd1a02958cedaeb271ca167482c1bc...   \n",
       "4  c7375d39e509e304c7227d74acbb320a838711c73d4bb7...   \n",
       "\n",
       "                                    campaign_id_hash  empiric_calibrated_recs  \\\n",
       "0  3287fbfb314c76ec3b9d4209628b6b8d25bc04772c7595...                6501.1090   \n",
       "1  26443482ee16a2b3653fab3cbf84eb2c3931520a985db5...                1360.8755   \n",
       "2  3bd3fc41bbee44113f90a42d246666088459ba3b57c58c...                7411.1694   \n",
       "3  1b40924dcbe3fe73d7ba308be724d722c6279ace116e78...               62687.1170   \n",
       "4  1c8cde564ce4aa20b8e4722d5587d9af2e7ca23bfc0086...               18061.8930   \n",
       "\n",
       "   empiric_clicks     target_item_taxonomy  \\\n",
       "0         18657.0                  UNKNOWN   \n",
       "1          7444.0          SPORTS~FIGHTING   \n",
       "2         32410.0                  UNKNOWN   \n",
       "3         70074.0  LIFE~HEALTH-AND-FITNESS   \n",
       "4         19145.0                 BUSINESS   \n",
       "\n",
       "                                   placement_id_hash  user_recs  ...  \\\n",
       "0  736ce0a301eb0c3da05800df13949e411684c97236aa22...      683.0  ...   \n",
       "1  911f042701f83ed9e2c3ee0951dd2f9e1dc0302ca5a03a...       83.0  ...   \n",
       "2  e317ff755817004b9268a99b1671e53f73b44535c926ed...     2829.0  ...   \n",
       "3  736ce0a301eb0c3da05800df13949e411684c97236aa22...       59.0  ...   \n",
       "4  51211bda213f6341e3a7db1f2ffa866075e5484f31b544...       56.0  ...   \n",
       "\n",
       "                                      source_id_hash  source_item_type  \\\n",
       "0  4c7987d659b97d2007c45bb3c9fd903b135a2ef18130f7...          homepage   \n",
       "1  c83159630182a5b7bc3c3fc985156c03b2a43129d63376...          homepage   \n",
       "2  389b69708cf58731e78e2e023a8c608d886fe5aebc0e23...          category   \n",
       "3  4c7987d659b97d2007c45bb3c9fd903b135a2ef18130f7...          homepage   \n",
       "4  c26defddc8604a0e23963eaccbfa40bd1f172f4e3cc5a9...             photo   \n",
       "\n",
       "  browser_platform os_family country_code region  day_of_week time_of_day  \\\n",
       "0             DESK         5           US     TX            0          20   \n",
       "1             DESK         6           US     AZ            0          22   \n",
       "2             DESK         6           US     NC            1          11   \n",
       "3             DESK         6           US     IN            0          20   \n",
       "4             DESK         6           US     GA            1          15   \n",
       "\n",
       "  gmt_offset  Id  \n",
       "0       -500   0  \n",
       "1       -700   1  \n",
       "2       -400   2  \n",
       "3       -400   3  \n",
       "4       -400   4  \n",
       "\n",
       "[5 rows x 23 columns]"
      ]
     },
     "execution_count": 11,
     "metadata": {},
     "output_type": "execute_result"
    }
   ],
   "source": [
    "test_data.head()"
   ]
  },
  {
   "cell_type": "code",
   "execution_count": 13,
   "metadata": {},
   "outputs": [
    {
     "name": "stdout",
     "output_type": "stream",
     "text": [
      "(999528, 20623)\n"
     ]
    },
    {
     "data": {
      "text/plain": [
       "<999528x20623 sparse matrix of type '<class 'numpy.float64'>'\n",
       "\twith 24632720 stored elements in Compressed Sparse Row format>"
      ]
     },
     "execution_count": 13,
     "metadata": {},
     "output_type": "execute_result"
    }
   ],
   "source": [
    "test_features = features_processor.transform(test_data)\n",
    "print(test_features.shape)\n",
    "test_features"
   ]
  },
  {
   "cell_type": "code",
   "execution_count": null,
   "metadata": {},
   "outputs": [],
   "source": []
  },
  {
   "cell_type": "code",
   "execution_count": null,
   "metadata": {},
   "outputs": [],
   "source": []
  }
 ],
 "metadata": {
  "kernelspec": {
   "display_name": "Python 3",
   "language": "python",
   "name": "python3"
  },
  "language_info": {
   "codemirror_mode": {
    "name": "ipython",
    "version": 3
   },
   "file_extension": ".py",
   "mimetype": "text/x-python",
   "name": "python",
   "nbconvert_exporter": "python",
   "pygments_lexer": "ipython3",
   "version": "3.8.2"
  },
  "pycharm": {
   "stem_cell": {
    "cell_type": "raw",
    "metadata": {
     "collapsed": false
    },
    "source": []
   }
  }
 },
 "nbformat": 4,
 "nbformat_minor": 1
}
