{
 "cells": [
  {
   "cell_type": "code",
   "execution_count": 5,
   "metadata": {
    "collapsed": true,
    "pycharm": {
     "is_executing": false
    }
   },
   "outputs": [],
   "source": [
    "from collections import Counter\n",
    "import pandas as pd\n",
    "import logging\n",
    "import os"
   ]
  },
  {
   "cell_type": "markdown",
   "source": [
    "## Data"
   ],
   "metadata": {
    "collapsed": false
   }
  },
  {
   "cell_type": "code",
   "execution_count": 6,
   "outputs": [],
   "source": [
    "sample = pd.read_csv(str(\"part-00002.csv\"))"
   ],
   "metadata": {
    "collapsed": false,
    "pycharm": {
     "name": "#%%\n",
     "is_executing": false
    }
   }
  },
  {
   "cell_type": "code",
   "execution_count": 7,
   "outputs": [
    {
     "data": {
      "text/plain": "   page_view_start_time                                       user_id_hash  \\\n0         1586972175040  cc720429312f18d7b2e4c113c6f48cef3d16836b7fdce0...   \n1         1586553332086  d8bc219c47b2570fea85d82b9df00973487e8ab1ca76e1...   \n2         1586231495787  ed8ddb92498f13f88101c13e0a26fdcc87db5d929c17d2...   \n3         1586720067383  f2b6bcf14717b7148cb8f92cbcbecb3a9ff24607b0a5c9...   \n4         1586820341555  6ea6706128c562661fd6ec45ea2521a9f2837c8c9d5078...   \n\n                                      target_id_hash  \\\n0  e47742764f99fbe66f06369af9557667a87acf3d7942a1...   \n1  cfbc031f0bacfa09f2a70a02c1024711d2e7ef205e9339...   \n2  c775af6de0b254897ec4d00d174e298a6d34dd6e2c104b...   \n3  b62da02a3fc769b747ec9de5bc90d988646ef35ad39873...   \n4  a07a13aa1a83706186e4bf205ba79c614697284a059e08...   \n\n                                  syndicator_id_hash  \\\n0  f7fc333375dc274f0c94a23df0b3768404f87195742a6e...   \n1  888081c07a6adc27ad51bde46544a5fe2f803e8293e561...   \n2  100328dbbf569e6848665b2cd40823e7dde2175050d987...   \n3  778263b6cc984e65c497d16b7fec917c3230cbdcc56fa1...   \n4  a517d24ada92fc973f1612bd27ce716ff506485868d441...   \n\n                                    campaign_id_hash  empiric_calibrated_recs  \\\n0  8681b856166e1e7f002f6a2607a4e2ba35ec4d9ce9812e...                129.53584   \n1  7b4c9ccff73b03f8d6c41d8b2dd4d190f387081b7e5b2c...                357.14075   \n2  6801569fe0d16817528745e61b4897202634ea9905a5f2...                298.30496   \n3  e7b35c85695999bbcbfc4d10b932c5e8b6b52d5720237e...              50006.86300   \n4  b8abf8828615be8732cbe1589fa2c8f4fd8cecb5bca791...              15547.64200   \n\n   empiric_clicks target_item_taxonomy  \\\n0           930.0          LIFE~TRAVEL   \n1          1286.0            LIFE~PETS   \n2           139.0            LIFE~HOME   \n3         64460.0                 TECH   \n4          7094.0          LIFE~HEALTH   \n\n                                   placement_id_hash  user_recs  ...  \\\n0  251974fe3b996b3c952690db23c62aa3698a99e46ee022...     1051.0  ...   \n1  970f1987570a4ece129c056ddf4de53b1f43b0882ea65c...     1074.0  ...   \n2  3ce0dc6ef6be59d27da0a3ecbd2b5b28c88bf5e3a98bc9...      320.0  ...   \n3  39d46cdd8f08693dd0cb967d016efec97d0bc5eb1899dc...      206.0  ...   \n4  f46a38c5c8d89917121df61f7a725748354c47dfc79cfe...        0.0  ...   \n\n                                      source_id_hash  source_item_type  \\\n0  acefa4deefb13b8d19cbe262528f5c3532bc7f0363e4c3...              text   \n1  4c7987d659b97d2007c45bb3c9fd903b135a2ef18130f7...          homepage   \n2  09bb81e4503b782e80b2c802ad08576f39f76cc4c466dd...              text   \n3  c83159630182a5b7bc3c3fc985156c03b2a43129d63376...          homepage   \n4  c83159630182a5b7bc3c3fc985156c03b2a43129d63376...          homepage   \n\n  browser_platform os_family country_code region  day_of_week time_of_day  \\\n0             DESK         6           US     NH            3          13   \n1             DESK         6           US     NV            5          14   \n2             DESK         6           US     NY            1          23   \n3             DESK         6           US     AR            0          14   \n4             DESK         6           US     GA            1          19   \n\n  gmt_offset  is_click  \n0       -400       1.0  \n1       -700       0.0  \n2       -400       0.0  \n3       -500       1.0  \n4       -400       0.0  \n\n[5 rows x 23 columns]",
      "text/html": "<div>\n<style scoped>\n    .dataframe tbody tr th:only-of-type {\n        vertical-align: middle;\n    }\n\n    .dataframe tbody tr th {\n        vertical-align: top;\n    }\n\n    .dataframe thead th {\n        text-align: right;\n    }\n</style>\n<table border=\"1\" class=\"dataframe\">\n  <thead>\n    <tr style=\"text-align: right;\">\n      <th></th>\n      <th>page_view_start_time</th>\n      <th>user_id_hash</th>\n      <th>target_id_hash</th>\n      <th>syndicator_id_hash</th>\n      <th>campaign_id_hash</th>\n      <th>empiric_calibrated_recs</th>\n      <th>empiric_clicks</th>\n      <th>target_item_taxonomy</th>\n      <th>placement_id_hash</th>\n      <th>user_recs</th>\n      <th>...</th>\n      <th>source_id_hash</th>\n      <th>source_item_type</th>\n      <th>browser_platform</th>\n      <th>os_family</th>\n      <th>country_code</th>\n      <th>region</th>\n      <th>day_of_week</th>\n      <th>time_of_day</th>\n      <th>gmt_offset</th>\n      <th>is_click</th>\n    </tr>\n  </thead>\n  <tbody>\n    <tr>\n      <th>0</th>\n      <td>1586972175040</td>\n      <td>cc720429312f18d7b2e4c113c6f48cef3d16836b7fdce0...</td>\n      <td>e47742764f99fbe66f06369af9557667a87acf3d7942a1...</td>\n      <td>f7fc333375dc274f0c94a23df0b3768404f87195742a6e...</td>\n      <td>8681b856166e1e7f002f6a2607a4e2ba35ec4d9ce9812e...</td>\n      <td>129.53584</td>\n      <td>930.0</td>\n      <td>LIFE~TRAVEL</td>\n      <td>251974fe3b996b3c952690db23c62aa3698a99e46ee022...</td>\n      <td>1051.0</td>\n      <td>...</td>\n      <td>acefa4deefb13b8d19cbe262528f5c3532bc7f0363e4c3...</td>\n      <td>text</td>\n      <td>DESK</td>\n      <td>6</td>\n      <td>US</td>\n      <td>NH</td>\n      <td>3</td>\n      <td>13</td>\n      <td>-400</td>\n      <td>1.0</td>\n    </tr>\n    <tr>\n      <th>1</th>\n      <td>1586553332086</td>\n      <td>d8bc219c47b2570fea85d82b9df00973487e8ab1ca76e1...</td>\n      <td>cfbc031f0bacfa09f2a70a02c1024711d2e7ef205e9339...</td>\n      <td>888081c07a6adc27ad51bde46544a5fe2f803e8293e561...</td>\n      <td>7b4c9ccff73b03f8d6c41d8b2dd4d190f387081b7e5b2c...</td>\n      <td>357.14075</td>\n      <td>1286.0</td>\n      <td>LIFE~PETS</td>\n      <td>970f1987570a4ece129c056ddf4de53b1f43b0882ea65c...</td>\n      <td>1074.0</td>\n      <td>...</td>\n      <td>4c7987d659b97d2007c45bb3c9fd903b135a2ef18130f7...</td>\n      <td>homepage</td>\n      <td>DESK</td>\n      <td>6</td>\n      <td>US</td>\n      <td>NV</td>\n      <td>5</td>\n      <td>14</td>\n      <td>-700</td>\n      <td>0.0</td>\n    </tr>\n    <tr>\n      <th>2</th>\n      <td>1586231495787</td>\n      <td>ed8ddb92498f13f88101c13e0a26fdcc87db5d929c17d2...</td>\n      <td>c775af6de0b254897ec4d00d174e298a6d34dd6e2c104b...</td>\n      <td>100328dbbf569e6848665b2cd40823e7dde2175050d987...</td>\n      <td>6801569fe0d16817528745e61b4897202634ea9905a5f2...</td>\n      <td>298.30496</td>\n      <td>139.0</td>\n      <td>LIFE~HOME</td>\n      <td>3ce0dc6ef6be59d27da0a3ecbd2b5b28c88bf5e3a98bc9...</td>\n      <td>320.0</td>\n      <td>...</td>\n      <td>09bb81e4503b782e80b2c802ad08576f39f76cc4c466dd...</td>\n      <td>text</td>\n      <td>DESK</td>\n      <td>6</td>\n      <td>US</td>\n      <td>NY</td>\n      <td>1</td>\n      <td>23</td>\n      <td>-400</td>\n      <td>0.0</td>\n    </tr>\n    <tr>\n      <th>3</th>\n      <td>1586720067383</td>\n      <td>f2b6bcf14717b7148cb8f92cbcbecb3a9ff24607b0a5c9...</td>\n      <td>b62da02a3fc769b747ec9de5bc90d988646ef35ad39873...</td>\n      <td>778263b6cc984e65c497d16b7fec917c3230cbdcc56fa1...</td>\n      <td>e7b35c85695999bbcbfc4d10b932c5e8b6b52d5720237e...</td>\n      <td>50006.86300</td>\n      <td>64460.0</td>\n      <td>TECH</td>\n      <td>39d46cdd8f08693dd0cb967d016efec97d0bc5eb1899dc...</td>\n      <td>206.0</td>\n      <td>...</td>\n      <td>c83159630182a5b7bc3c3fc985156c03b2a43129d63376...</td>\n      <td>homepage</td>\n      <td>DESK</td>\n      <td>6</td>\n      <td>US</td>\n      <td>AR</td>\n      <td>0</td>\n      <td>14</td>\n      <td>-500</td>\n      <td>1.0</td>\n    </tr>\n    <tr>\n      <th>4</th>\n      <td>1586820341555</td>\n      <td>6ea6706128c562661fd6ec45ea2521a9f2837c8c9d5078...</td>\n      <td>a07a13aa1a83706186e4bf205ba79c614697284a059e08...</td>\n      <td>a517d24ada92fc973f1612bd27ce716ff506485868d441...</td>\n      <td>b8abf8828615be8732cbe1589fa2c8f4fd8cecb5bca791...</td>\n      <td>15547.64200</td>\n      <td>7094.0</td>\n      <td>LIFE~HEALTH</td>\n      <td>f46a38c5c8d89917121df61f7a725748354c47dfc79cfe...</td>\n      <td>0.0</td>\n      <td>...</td>\n      <td>c83159630182a5b7bc3c3fc985156c03b2a43129d63376...</td>\n      <td>homepage</td>\n      <td>DESK</td>\n      <td>6</td>\n      <td>US</td>\n      <td>GA</td>\n      <td>1</td>\n      <td>19</td>\n      <td>-400</td>\n      <td>0.0</td>\n    </tr>\n  </tbody>\n</table>\n<p>5 rows × 23 columns</p>\n</div>"
     },
     "metadata": {},
     "output_type": "execute_result",
     "execution_count": 7
    }
   ],
   "source": [
    "sample.head()"
   ],
   "metadata": {
    "collapsed": false,
    "pycharm": {
     "name": "#%%\n",
     "is_executing": false
    }
   }
  },
  {
   "cell_type": "code",
   "execution_count": 8,
   "outputs": [
    {
     "name": "stdout",
     "text": [
      "hello\n",
      "hello\n",
      "hello\n",
      "hello\n",
      "hello\n",
      "hello\n",
      "hello\n"
     ],
     "output_type": "stream"
    },
    {
     "data": {
      "text/plain": "11757"
     },
     "metadata": {},
     "output_type": "execute_result",
     "execution_count": 8
    }
   ],
   "source": [
    "from kaggle.preprocess.features import FeaturesProcessor\n",
    "features_processor = FeaturesProcessor()\n",
    "features_processor.fit(sample)\n",
    "len(features_processor.features_names)\n"
   ],
   "metadata": {
    "collapsed": false,
    "pycharm": {
     "name": "#%%\n",
     "is_executing": false
    }
   }
  },
  {
   "cell_type": "code",
   "execution_count": 10,
   "outputs": [],
   "source": [
    "features = features_processor.transform(sample)\n",
    "print(features.shape)\n",
    "features\n",
    "\n"
   ],
   "metadata": {
    "collapsed": false,
    "pycharm": {
     "name": "#%%\n",
     "is_executing": false
    }
   }
  }
 ],
 "metadata": {
  "kernelspec": {
   "display_name": "Python 3",
   "language": "python",
   "name": "python3"
  },
  "language_info": {
   "codemirror_mode": {
    "name": "ipython",
    "version": 2
   },
   "file_extension": ".py",
   "mimetype": "text/x-python",
   "name": "python",
   "nbconvert_exporter": "python",
   "pygments_lexer": "ipython2",
   "version": "2.7.6"
  },
  "pycharm": {
   "stem_cell": {
    "cell_type": "raw",
    "source": [],
    "metadata": {
     "collapsed": false
    }
   }
  }
 },
 "nbformat": 4,
 "nbformat_minor": 0
}