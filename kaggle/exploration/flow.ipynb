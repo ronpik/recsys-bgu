{
 "cells": [
  {
   "cell_type": "markdown",
   "metadata": {},
   "source": [
    "<img src=\"data:image/png;base64,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\" style='float:right; width:200px; margin: 0 20px;'>\n",
    "\n",
    "# Taboola CTR Value-For-Money Prediction\n",
    "---\n",
    "\n",
    "> Catboost, xgboost basline\n",
    "\n",
    "> some fully connected network"
   ]
  },
  {
   "cell_type": "code",
   "execution_count": 1,
   "metadata": {
    "pycharm": {
     "is_executing": false
    }
   },
   "outputs": [],
   "source": [
    "from collections import Counter\n",
    "import pandas as pd\n",
    "import logging\n",
    "import os\n",
    "import numpy as np\n",
    "import scipy.sparse\n",
    "import xgboost as xgb"
   ]
  },
  {
   "cell_type": "markdown",
   "metadata": {},
   "source": [
    "## Data"
   ]
  },
  {
   "cell_type": "code",
   "execution_count": 2,
   "metadata": {},
   "outputs": [],
   "source": [
    "import sys\n",
    "sys.path.append(\"/home/ec2-user/SageMaker/recsys-bgu\")"
   ]
  },
  {
   "cell_type": "code",
   "execution_count": 3,
   "metadata": {},
   "outputs": [],
   "source": [
    "train_path = \"./raw_data/part-00002.csv\"\n",
    "train_data = pd.read_csv(train_path)\n",
    "train_data = train_data.fillna(0)"
   ]
  },
  {
   "cell_type": "code",
   "execution_count": 6,
   "metadata": {},
   "outputs": [],
   "source": [
    "from sklearn.model_selection import train_test_split\n",
    "\n",
    "X_train, X_test, y_train, y_test = train_test_split(train_data.drop('is_click',axis=1), train_data.is_click, test_size=0.25, random_state=42)"
   ]
  },
  {
   "cell_type": "code",
   "execution_count": 7,
   "metadata": {},
   "outputs": [
    {
     "data": {
      "text/plain": [
       "854"
      ]
     },
     "execution_count": 7,
     "metadata": {},
     "output_type": "execute_result"
    }
   ],
   "source": [
    "from kaggle.preprocess.ohe_features import OHEFeaturesProcessor\n",
    "\n",
    "features_processor = OHEFeaturesProcessor()\n",
    "features_processor.fit(X_train)\n",
    "len(features_processor.features_names)"
   ]
  },
  {
   "cell_type": "code",
   "execution_count": 10,
   "metadata": {},
   "outputs": [
    {
     "name": "stdout",
     "output_type": "stream",
     "text": [
      "(4757, 258) (1586, 258)\n"
     ]
    }
   ],
   "source": [
    "X_train_ = features_processor.transform(X_train)\n",
    "X_test_ = features_processor.transform(X_test)\n",
    "print(X_train_.shape, X_test_.shape)"
   ]
  },
  {
   "cell_type": "code",
   "execution_count": null,
   "metadata": {},
   "outputs": [],
   "source": [
    "test = scipy.sparse.load_npz('./processed_data/test_data.npz')"
   ]
  },
  {
   "cell_type": "code",
   "execution_count": null,
   "metadata": {
    "collapsed": false,
    "jupyter": {
     "outputs_hidden": false
    },
    "pycharm": {
     "is_executing": false,
     "name": "#%%\n"
    }
   },
   "outputs": [],
   "source": [
    "train.shape, test.shape"
   ]
  },
  {
   "cell_type": "markdown",
   "metadata": {},
   "source": [
    "# Xgboost"
   ]
  },
  {
   "cell_type": "code",
   "execution_count": 21,
   "metadata": {},
   "outputs": [],
   "source": [
    "model = xgb.XGBClassifier(n_estimators= 400, max_depth=8)"
   ]
  },
  {
   "cell_type": "code",
   "execution_count": 22,
   "metadata": {},
   "outputs": [
    {
     "data": {
      "text/plain": [
       "XGBClassifier(base_score=0.5, booster='gbtree', colsample_bylevel=1,\n",
       "              colsample_bynode=1, colsample_bytree=1, gamma=0, gpu_id=-1,\n",
       "              importance_type='gain', interaction_constraints='',\n",
       "              learning_rate=0.300000012, max_delta_step=0, max_depth=8,\n",
       "              min_child_weight=1, missing=nan, monotone_constraints='()',\n",
       "              n_estimators=400, n_jobs=0, num_parallel_tree=1,\n",
       "              objective='binary:logistic', random_state=0, reg_alpha=0,\n",
       "              reg_lambda=1, scale_pos_weight=1, subsample=1,\n",
       "              tree_method='exact', validate_parameters=1, verbosity=None)"
      ]
     },
     "execution_count": 22,
     "metadata": {},
     "output_type": "execute_result"
    }
   ],
   "source": [
    "model.fit(X_train_, y_train)"
   ]
  },
  {
   "cell_type": "code",
   "execution_count": 23,
   "metadata": {},
   "outputs": [
    {
     "data": {
      "text/plain": [
       "array([1., 0., 1., 1., 1.])"
      ]
     },
     "execution_count": 23,
     "metadata": {},
     "output_type": "execute_result"
    }
   ],
   "source": [
    "predictions = model.predict(X_test_)\n",
    "predictions[:5]"
   ]
  },
  {
   "cell_type": "markdown",
   "metadata": {},
   "source": [
    "# AUC"
   ]
  },
  {
   "cell_type": "code",
   "execution_count": 24,
   "metadata": {},
   "outputs": [],
   "source": [
    "from sklearn import metrics\n",
    "fpr, tpr, threshold = metrics.roc_curve(y_test, predictions)\n",
    "roc_auc = metrics.auc(fpr, tpr)"
   ]
  },
  {
   "cell_type": "code",
   "execution_count": 25,
   "metadata": {},
   "outputs": [
    {
     "data": {
      "text/plain": [
       "0.7379581255914184"
      ]
     },
     "execution_count": 25,
     "metadata": {},
     "output_type": "execute_result"
    }
   ],
   "source": [
    "roc_auc"
   ]
  },
  {
   "cell_type": "code",
   "execution_count": null,
   "metadata": {},
   "outputs": [],
   "source": []
  }
 ],
 "metadata": {
  "kernelspec": {
   "display_name": "recsys2",
   "language": "python",
   "name": "recsys2"
  },
  "language_info": {
   "codemirror_mode": {
    "name": "ipython",
    "version": 3
   },
   "file_extension": ".py",
   "mimetype": "text/x-python",
   "name": "python",
   "nbconvert_exporter": "python",
   "pygments_lexer": "ipython3",
   "version": "3.7.6"
  },
  "pycharm": {
   "stem_cell": {
    "cell_type": "raw",
    "metadata": {
     "collapsed": false
    },
    "source": []
   }
  }
 },
 "nbformat": 4,
 "nbformat_minor": 4
}
