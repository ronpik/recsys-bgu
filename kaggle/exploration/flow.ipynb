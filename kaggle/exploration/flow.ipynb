{
 "cells": [
  {
   "cell_type": "markdown",
   "metadata": {},
   "source": [
    "<img src=\"data:image/png;base64,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\" style='float:right; width:200px; margin: 0 20px;'>\n",
    "\n",
    "# Taboola CTR Value-For-Money Prediction\n",
    "---\n",
    "\n",
    "> Catboost, xgboost basline\n",
    "\n",
    "> some fully connected network"
   ]
  },
  {
   "cell_type": "code",
   "execution_count": 1,
   "metadata": {
    "pycharm": {
     "is_executing": false
    }
   },
   "outputs": [],
   "source": [
    "from collections import Counter\n",
    "import pandas as pd\n",
    "import logging\n",
    "import os\n",
    "import numpy as np\n",
    "import scipy.sparse\n",
    "import xgboost as xgb\n",
    "import s3fs"
   ]
  },
  {
   "cell_type": "markdown",
   "metadata": {},
   "source": [
    "## Data"
   ]
  },
  {
   "cell_type": "code",
   "execution_count": 2,
   "metadata": {},
   "outputs": [],
   "source": [
    "import sys\n",
    "sys.path.append(\"/home/ec2-user/SageMaker/recsys-bgu\")"
   ]
  },
  {
   "cell_type": "code",
   "execution_count": 3,
   "metadata": {},
   "outputs": [],
   "source": [
    "train_data_1 = pd.read_csv('s3://jumio-altimo/raw/part-00002.csv')\n",
    "train_data_2 = pd.read_csv('s3://jumio-altimo/raw/part-00016.csv')"
   ]
  },
  {
   "cell_type": "code",
   "execution_count": 4,
   "metadata": {},
   "outputs": [],
   "source": [
    "train_data_3 = pd.read_csv('s3://jumio-altimo/raw/part-00025.csv')\n",
    "train_data_4 = pd.read_csv('s3://jumio-altimo/raw/part-00037.csv')"
   ]
  },
  {
   "cell_type": "code",
   "execution_count": 5,
   "metadata": {},
   "outputs": [],
   "source": [
    "train_data_5 = pd.read_csv('s3://jumio-altimo/raw/part-00047.csv')\n",
    "train_data_6 = pd.read_csv('s3://jumio-altimo/raw/part-00056.csv')"
   ]
  },
  {
   "cell_type": "code",
   "execution_count": 25,
   "metadata": {},
   "outputs": [],
   "source": [
    "test_data = pd.read_csv('/home/ec2-user/SageMaker/recsys-bgu/kaggle/exploration/raw_data/test_file.csv')"
   ]
  },
  {
   "cell_type": "code",
   "execution_count": 7,
   "metadata": {},
   "outputs": [],
   "source": [
    "train_files = [train_data_1, train_data_2, train_data_3, train_data_4, train_data_5, train_data_6]"
   ]
  },
  {
   "cell_type": "code",
   "execution_count": 8,
   "metadata": {},
   "outputs": [],
   "source": [
    "train = pd.concat([file for file in train_files], axis=0)"
   ]
  },
  {
   "cell_type": "code",
   "execution_count": 9,
   "metadata": {},
   "outputs": [
    {
     "data": {
      "text/plain": [
       "(2613946, 23)"
      ]
     },
     "execution_count": 9,
     "metadata": {},
     "output_type": "execute_result"
    }
   ],
   "source": [
    "train.shape"
   ]
  },
  {
   "cell_type": "code",
   "execution_count": 10,
   "metadata": {},
   "outputs": [
    {
     "data": {
      "text/plain": [
       "28576"
      ]
     },
     "execution_count": 10,
     "metadata": {},
     "output_type": "execute_result"
    }
   ],
   "source": [
    "from kaggle.preprocess.ohe_features import OHEFeaturesProcessor\n",
    "\n",
    "features_processor = OHEFeaturesProcessor()\n",
    "features_processor.fit(train)\n",
    "len(features_processor.features_names)"
   ]
  },
  {
   "cell_type": "code",
   "execution_count": 11,
   "metadata": {},
   "outputs": [
    {
     "data": {
      "text/plain": [
       "(2613946, 27797)"
      ]
     },
     "execution_count": 11,
     "metadata": {},
     "output_type": "execute_result"
    }
   ],
   "source": [
    "X_train = features_processor.transform(train)\n",
    "X_train.shape"
   ]
  },
  {
   "cell_type": "code",
   "execution_count": 26,
   "metadata": {},
   "outputs": [],
   "source": [
    "test = features_processor.transform(test_data)"
   ]
  },
  {
   "cell_type": "code",
   "execution_count": 27,
   "metadata": {},
   "outputs": [
    {
     "data": {
      "text/plain": [
       "(999528, 27797)"
      ]
     },
     "execution_count": 27,
     "metadata": {},
     "output_type": "execute_result"
    }
   ],
   "source": [
    "test.shape"
   ]
  },
  {
   "cell_type": "markdown",
   "metadata": {},
   "source": [
    "# Xgboost"
   ]
  },
  {
   "cell_type": "code",
   "execution_count": 14,
   "metadata": {},
   "outputs": [],
   "source": [
    "model = xgb.XGBClassifier(n_estimators= 100, max_depth=5)"
   ]
  },
  {
   "cell_type": "code",
   "execution_count": 15,
   "metadata": {},
   "outputs": [
    {
     "data": {
      "text/plain": [
       "XGBClassifier(base_score=0.5, booster='gbtree', colsample_bylevel=1,\n",
       "              colsample_bynode=1, colsample_bytree=1, gamma=0, gpu_id=-1,\n",
       "              importance_type='gain', interaction_constraints='',\n",
       "              learning_rate=0.300000012, max_delta_step=0, max_depth=5,\n",
       "              min_child_weight=1, missing=nan, monotone_constraints='()',\n",
       "              n_estimators=100, n_jobs=0, num_parallel_tree=1,\n",
       "              objective='binary:logistic', random_state=0, reg_alpha=0,\n",
       "              reg_lambda=1, scale_pos_weight=1, subsample=1,\n",
       "              tree_method='exact', validate_parameters=1, verbosity=None)"
      ]
     },
     "execution_count": 15,
     "metadata": {},
     "output_type": "execute_result"
    }
   ],
   "source": [
    "model.fit(X_train, list(train.is_click))"
   ]
  },
  {
   "cell_type": "code",
   "execution_count": 31,
   "metadata": {},
   "outputs": [
    {
     "data": {
      "text/html": [
       "<div>\n",
       "<style scoped>\n",
       "    .dataframe tbody tr th:only-of-type {\n",
       "        vertical-align: middle;\n",
       "    }\n",
       "\n",
       "    .dataframe tbody tr th {\n",
       "        vertical-align: top;\n",
       "    }\n",
       "\n",
       "    .dataframe thead th {\n",
       "        text-align: right;\n",
       "    }\n",
       "</style>\n",
       "<table border=\"1\" class=\"dataframe\">\n",
       "  <thead>\n",
       "    <tr style=\"text-align: right;\">\n",
       "      <th></th>\n",
       "      <th>page_view_start_time</th>\n",
       "      <th>user_id_hash</th>\n",
       "      <th>target_id_hash</th>\n",
       "      <th>syndicator_id_hash</th>\n",
       "      <th>campaign_id_hash</th>\n",
       "      <th>empiric_calibrated_recs</th>\n",
       "      <th>empiric_clicks</th>\n",
       "      <th>target_item_taxonomy</th>\n",
       "      <th>placement_id_hash</th>\n",
       "      <th>user_recs</th>\n",
       "      <th>...</th>\n",
       "      <th>source_id_hash</th>\n",
       "      <th>source_item_type</th>\n",
       "      <th>browser_platform</th>\n",
       "      <th>os_family</th>\n",
       "      <th>country_code</th>\n",
       "      <th>region</th>\n",
       "      <th>day_of_week</th>\n",
       "      <th>time_of_day</th>\n",
       "      <th>gmt_offset</th>\n",
       "      <th>Id</th>\n",
       "    </tr>\n",
       "  </thead>\n",
       "  <tbody>\n",
       "    <tr>\n",
       "      <th>0</th>\n",
       "      <td>1587347971815</td>\n",
       "      <td>3fb5d9495b4b6165e83fd9fdeacd2f0293d20318bbd0a7...</td>\n",
       "      <td>ebd8438008f730178f63ac07d7e0398172451f28dc6390...</td>\n",
       "      <td>23fe2e33a8ac9193b148e252963cc7580757e0b0422010...</td>\n",
       "      <td>3287fbfb314c76ec3b9d4209628b6b8d25bc04772c7595...</td>\n",
       "      <td>6501.1090</td>\n",
       "      <td>18657.0</td>\n",
       "      <td>UNKNOWN</td>\n",
       "      <td>736ce0a301eb0c3da05800df13949e411684c97236aa22...</td>\n",
       "      <td>683.0</td>\n",
       "      <td>...</td>\n",
       "      <td>4c7987d659b97d2007c45bb3c9fd903b135a2ef18130f7...</td>\n",
       "      <td>homepage</td>\n",
       "      <td>DESK</td>\n",
       "      <td>5</td>\n",
       "      <td>US</td>\n",
       "      <td>TX</td>\n",
       "      <td>0</td>\n",
       "      <td>20</td>\n",
       "      <td>-500</td>\n",
       "      <td>0</td>\n",
       "    </tr>\n",
       "    <tr>\n",
       "      <th>1</th>\n",
       "      <td>1587359560809</td>\n",
       "      <td>26bd0dea68c5f65c286ead5f6a69218486cc965535ae39...</td>\n",
       "      <td>79f2e0095aca1d3afac3a4918f2fc77aa3dd386537447a...</td>\n",
       "      <td>377402b6b9107d4c2d3d7cd40218ab1578ffd15554a2c7...</td>\n",
       "      <td>26443482ee16a2b3653fab3cbf84eb2c3931520a985db5...</td>\n",
       "      <td>1360.8755</td>\n",
       "      <td>7444.0</td>\n",
       "      <td>SPORTS~FIGHTING</td>\n",
       "      <td>911f042701f83ed9e2c3ee0951dd2f9e1dc0302ca5a03a...</td>\n",
       "      <td>83.0</td>\n",
       "      <td>...</td>\n",
       "      <td>c83159630182a5b7bc3c3fc985156c03b2a43129d63376...</td>\n",
       "      <td>homepage</td>\n",
       "      <td>DESK</td>\n",
       "      <td>6</td>\n",
       "      <td>US</td>\n",
       "      <td>AZ</td>\n",
       "      <td>0</td>\n",
       "      <td>22</td>\n",
       "      <td>-700</td>\n",
       "      <td>1</td>\n",
       "    </tr>\n",
       "    <tr>\n",
       "      <th>2</th>\n",
       "      <td>1587397303992</td>\n",
       "      <td>1f4ab77f1707596f99861d16b3ca177eefc86dc0fbc4b9...</td>\n",
       "      <td>8b0b508ee3e64a6394ba199fc546afb8bb8423ed5fd560...</td>\n",
       "      <td>0ca265400306058ef19da77fc2486a6be975aa9cddb8f4...</td>\n",
       "      <td>3bd3fc41bbee44113f90a42d246666088459ba3b57c58c...</td>\n",
       "      <td>7411.1694</td>\n",
       "      <td>32410.0</td>\n",
       "      <td>UNKNOWN</td>\n",
       "      <td>e317ff755817004b9268a99b1671e53f73b44535c926ed...</td>\n",
       "      <td>2829.0</td>\n",
       "      <td>...</td>\n",
       "      <td>389b69708cf58731e78e2e023a8c608d886fe5aebc0e23...</td>\n",
       "      <td>category</td>\n",
       "      <td>DESK</td>\n",
       "      <td>6</td>\n",
       "      <td>US</td>\n",
       "      <td>NC</td>\n",
       "      <td>1</td>\n",
       "      <td>11</td>\n",
       "      <td>-400</td>\n",
       "      <td>2</td>\n",
       "    </tr>\n",
       "    <tr>\n",
       "      <th>3</th>\n",
       "      <td>1587341629681</td>\n",
       "      <td>f183602e0fe86592a106e62230d05ecc02212be60def80...</td>\n",
       "      <td>1077d1cd2590b9318ce5bf1b63f323706d9b3734234640...</td>\n",
       "      <td>fe55e950d29575f0dd1a02958cedaeb271ca167482c1bc...</td>\n",
       "      <td>1b40924dcbe3fe73d7ba308be724d722c6279ace116e78...</td>\n",
       "      <td>62687.1170</td>\n",
       "      <td>70074.0</td>\n",
       "      <td>LIFE~HEALTH-AND-FITNESS</td>\n",
       "      <td>736ce0a301eb0c3da05800df13949e411684c97236aa22...</td>\n",
       "      <td>59.0</td>\n",
       "      <td>...</td>\n",
       "      <td>4c7987d659b97d2007c45bb3c9fd903b135a2ef18130f7...</td>\n",
       "      <td>homepage</td>\n",
       "      <td>DESK</td>\n",
       "      <td>6</td>\n",
       "      <td>US</td>\n",
       "      <td>IN</td>\n",
       "      <td>0</td>\n",
       "      <td>20</td>\n",
       "      <td>-400</td>\n",
       "      <td>3</td>\n",
       "    </tr>\n",
       "    <tr>\n",
       "      <th>4</th>\n",
       "      <td>1587409279745</td>\n",
       "      <td>b94e3fe0943987d4139f13b7e250a055b78d6b3c7f6805...</td>\n",
       "      <td>6cfd767d66e6eebf5d9189084468aa98c7e2a879239c28...</td>\n",
       "      <td>c7375d39e509e304c7227d74acbb320a838711c73d4bb7...</td>\n",
       "      <td>1c8cde564ce4aa20b8e4722d5587d9af2e7ca23bfc0086...</td>\n",
       "      <td>18061.8930</td>\n",
       "      <td>19145.0</td>\n",
       "      <td>BUSINESS</td>\n",
       "      <td>51211bda213f6341e3a7db1f2ffa866075e5484f31b544...</td>\n",
       "      <td>56.0</td>\n",
       "      <td>...</td>\n",
       "      <td>c26defddc8604a0e23963eaccbfa40bd1f172f4e3cc5a9...</td>\n",
       "      <td>photo</td>\n",
       "      <td>DESK</td>\n",
       "      <td>6</td>\n",
       "      <td>US</td>\n",
       "      <td>GA</td>\n",
       "      <td>1</td>\n",
       "      <td>15</td>\n",
       "      <td>-400</td>\n",
       "      <td>4</td>\n",
       "    </tr>\n",
       "  </tbody>\n",
       "</table>\n",
       "<p>5 rows × 23 columns</p>\n",
       "</div>"
      ],
      "text/plain": [
       "   page_view_start_time                                       user_id_hash  \\\n",
       "0         1587347971815  3fb5d9495b4b6165e83fd9fdeacd2f0293d20318bbd0a7...   \n",
       "1         1587359560809  26bd0dea68c5f65c286ead5f6a69218486cc965535ae39...   \n",
       "2         1587397303992  1f4ab77f1707596f99861d16b3ca177eefc86dc0fbc4b9...   \n",
       "3         1587341629681  f183602e0fe86592a106e62230d05ecc02212be60def80...   \n",
       "4         1587409279745  b94e3fe0943987d4139f13b7e250a055b78d6b3c7f6805...   \n",
       "\n",
       "                                      target_id_hash  \\\n",
       "0  ebd8438008f730178f63ac07d7e0398172451f28dc6390...   \n",
       "1  79f2e0095aca1d3afac3a4918f2fc77aa3dd386537447a...   \n",
       "2  8b0b508ee3e64a6394ba199fc546afb8bb8423ed5fd560...   \n",
       "3  1077d1cd2590b9318ce5bf1b63f323706d9b3734234640...   \n",
       "4  6cfd767d66e6eebf5d9189084468aa98c7e2a879239c28...   \n",
       "\n",
       "                                  syndicator_id_hash  \\\n",
       "0  23fe2e33a8ac9193b148e252963cc7580757e0b0422010...   \n",
       "1  377402b6b9107d4c2d3d7cd40218ab1578ffd15554a2c7...   \n",
       "2  0ca265400306058ef19da77fc2486a6be975aa9cddb8f4...   \n",
       "3  fe55e950d29575f0dd1a02958cedaeb271ca167482c1bc...   \n",
       "4  c7375d39e509e304c7227d74acbb320a838711c73d4bb7...   \n",
       "\n",
       "                                    campaign_id_hash  empiric_calibrated_recs  \\\n",
       "0  3287fbfb314c76ec3b9d4209628b6b8d25bc04772c7595...                6501.1090   \n",
       "1  26443482ee16a2b3653fab3cbf84eb2c3931520a985db5...                1360.8755   \n",
       "2  3bd3fc41bbee44113f90a42d246666088459ba3b57c58c...                7411.1694   \n",
       "3  1b40924dcbe3fe73d7ba308be724d722c6279ace116e78...               62687.1170   \n",
       "4  1c8cde564ce4aa20b8e4722d5587d9af2e7ca23bfc0086...               18061.8930   \n",
       "\n",
       "   empiric_clicks     target_item_taxonomy  \\\n",
       "0         18657.0                  UNKNOWN   \n",
       "1          7444.0          SPORTS~FIGHTING   \n",
       "2         32410.0                  UNKNOWN   \n",
       "3         70074.0  LIFE~HEALTH-AND-FITNESS   \n",
       "4         19145.0                 BUSINESS   \n",
       "\n",
       "                                   placement_id_hash  user_recs  ...  \\\n",
       "0  736ce0a301eb0c3da05800df13949e411684c97236aa22...      683.0  ...   \n",
       "1  911f042701f83ed9e2c3ee0951dd2f9e1dc0302ca5a03a...       83.0  ...   \n",
       "2  e317ff755817004b9268a99b1671e53f73b44535c926ed...     2829.0  ...   \n",
       "3  736ce0a301eb0c3da05800df13949e411684c97236aa22...       59.0  ...   \n",
       "4  51211bda213f6341e3a7db1f2ffa866075e5484f31b544...       56.0  ...   \n",
       "\n",
       "                                      source_id_hash  source_item_type  \\\n",
       "0  4c7987d659b97d2007c45bb3c9fd903b135a2ef18130f7...          homepage   \n",
       "1  c83159630182a5b7bc3c3fc985156c03b2a43129d63376...          homepage   \n",
       "2  389b69708cf58731e78e2e023a8c608d886fe5aebc0e23...          category   \n",
       "3  4c7987d659b97d2007c45bb3c9fd903b135a2ef18130f7...          homepage   \n",
       "4  c26defddc8604a0e23963eaccbfa40bd1f172f4e3cc5a9...             photo   \n",
       "\n",
       "  browser_platform os_family country_code region  day_of_week time_of_day  \\\n",
       "0             DESK         5           US     TX            0          20   \n",
       "1             DESK         6           US     AZ            0          22   \n",
       "2             DESK         6           US     NC            1          11   \n",
       "3             DESK         6           US     IN            0          20   \n",
       "4             DESK         6           US     GA            1          15   \n",
       "\n",
       "  gmt_offset  Id  \n",
       "0       -500   0  \n",
       "1       -700   1  \n",
       "2       -400   2  \n",
       "3       -400   3  \n",
       "4       -400   4  \n",
       "\n",
       "[5 rows x 23 columns]"
      ]
     },
     "execution_count": 31,
     "metadata": {},
     "output_type": "execute_result"
    }
   ],
   "source": [
    "test_data.head()"
   ]
  },
  {
   "cell_type": "code",
   "execution_count": 28,
   "metadata": {},
   "outputs": [
    {
     "data": {
      "text/plain": [
       "array([1., 1., 1., 1., 0.])"
      ]
     },
     "execution_count": 28,
     "metadata": {},
     "output_type": "execute_result"
    }
   ],
   "source": [
    "predictions = model.predict(test)\n"
   ]
  },
  {
   "cell_type": "code",
   "execution_count": 34,
   "metadata": {},
   "outputs": [],
   "source": [
    "output = test_data.filter([id])"
   ]
  },
  {
   "cell_type": "code",
   "execution_count": 35,
   "metadata": {},
   "outputs": [
    {
     "data": {
      "text/html": [
       "<div>\n",
       "<style scoped>\n",
       "    .dataframe tbody tr th:only-of-type {\n",
       "        vertical-align: middle;\n",
       "    }\n",
       "\n",
       "    .dataframe tbody tr th {\n",
       "        vertical-align: top;\n",
       "    }\n",
       "\n",
       "    .dataframe thead th {\n",
       "        text-align: right;\n",
       "    }\n",
       "</style>\n",
       "<table border=\"1\" class=\"dataframe\">\n",
       "  <thead>\n",
       "    <tr style=\"text-align: right;\">\n",
       "      <th></th>\n",
       "    </tr>\n",
       "  </thead>\n",
       "  <tbody>\n",
       "    <tr>\n",
       "      <th>0</th>\n",
       "    </tr>\n",
       "    <tr>\n",
       "      <th>1</th>\n",
       "    </tr>\n",
       "    <tr>\n",
       "      <th>2</th>\n",
       "    </tr>\n",
       "    <tr>\n",
       "      <th>3</th>\n",
       "    </tr>\n",
       "    <tr>\n",
       "      <th>4</th>\n",
       "    </tr>\n",
       "  </tbody>\n",
       "</table>\n",
       "</div>"
      ],
      "text/plain": [
       "Empty DataFrame\n",
       "Columns: []\n",
       "Index: [0, 1, 2, 3, 4]"
      ]
     },
     "execution_count": 35,
     "metadata": {},
     "output_type": "execute_result"
    }
   ],
   "source": [
    "output.assign()"
   ]
  },
  {
   "cell_type": "code",
   "execution_count": 39,
   "metadata": {},
   "outputs": [],
   "source": [
    "output = output.assign(Predicted = predictions )"
   ]
  },
  {
   "cell_type": "code",
   "execution_count": 41,
   "metadata": {},
   "outputs": [],
   "source": [
    "output.to_csv('submission1.csv')"
   ]
  },
  {
   "cell_type": "code",
   "execution_count": 30,
   "metadata": {},
   "outputs": [
    {
     "data": {
      "text/plain": [
       "(999528,)"
      ]
     },
     "execution_count": 30,
     "metadata": {},
     "output_type": "execute_result"
    }
   ],
   "source": [
    "predictions.shape"
   ]
  },
  {
   "cell_type": "markdown",
   "metadata": {},
   "source": [
    "# AUC"
   ]
  },
  {
   "cell_type": "code",
   "execution_count": 29,
   "metadata": {},
   "outputs": [
    {
     "ename": "AttributeError",
     "evalue": "'DataFrame' object has no attribute 'is_click'",
     "output_type": "error",
     "traceback": [
      "\u001b[0;31m---------------------------------------------------------------------------\u001b[0m",
      "\u001b[0;31mAttributeError\u001b[0m                            Traceback (most recent call last)",
      "\u001b[0;32m<ipython-input-29-b125c11c69d7>\u001b[0m in \u001b[0;36m<module>\u001b[0;34m\u001b[0m\n\u001b[1;32m      1\u001b[0m \u001b[0;32mfrom\u001b[0m \u001b[0msklearn\u001b[0m \u001b[0;32mimport\u001b[0m \u001b[0mmetrics\u001b[0m\u001b[0;34m\u001b[0m\u001b[0;34m\u001b[0m\u001b[0m\n\u001b[0;32m----> 2\u001b[0;31m \u001b[0mfpr\u001b[0m\u001b[0;34m,\u001b[0m \u001b[0mtpr\u001b[0m\u001b[0;34m,\u001b[0m \u001b[0mthreshold\u001b[0m \u001b[0;34m=\u001b[0m \u001b[0mmetrics\u001b[0m\u001b[0;34m.\u001b[0m\u001b[0mroc_curve\u001b[0m\u001b[0;34m(\u001b[0m\u001b[0mtest_data\u001b[0m\u001b[0;34m.\u001b[0m\u001b[0mis_click\u001b[0m\u001b[0;34m,\u001b[0m \u001b[0mpredictions\u001b[0m\u001b[0;34m)\u001b[0m\u001b[0;34m\u001b[0m\u001b[0;34m\u001b[0m\u001b[0m\n\u001b[0m\u001b[1;32m      3\u001b[0m \u001b[0mroc_auc\u001b[0m \u001b[0;34m=\u001b[0m \u001b[0mmetrics\u001b[0m\u001b[0;34m.\u001b[0m\u001b[0mauc\u001b[0m\u001b[0;34m(\u001b[0m\u001b[0mfpr\u001b[0m\u001b[0;34m,\u001b[0m \u001b[0mtpr\u001b[0m\u001b[0;34m)\u001b[0m\u001b[0;34m\u001b[0m\u001b[0;34m\u001b[0m\u001b[0m\n",
      "\u001b[0;32m~/anaconda3/envs/recsysex2/lib/python3.7/site-packages/pandas/core/generic.py\u001b[0m in \u001b[0;36m__getattr__\u001b[0;34m(self, name)\u001b[0m\n\u001b[1;32m   5272\u001b[0m             \u001b[0;32mif\u001b[0m \u001b[0mself\u001b[0m\u001b[0;34m.\u001b[0m\u001b[0m_info_axis\u001b[0m\u001b[0;34m.\u001b[0m\u001b[0m_can_hold_identifiers_and_holds_name\u001b[0m\u001b[0;34m(\u001b[0m\u001b[0mname\u001b[0m\u001b[0;34m)\u001b[0m\u001b[0;34m:\u001b[0m\u001b[0;34m\u001b[0m\u001b[0;34m\u001b[0m\u001b[0m\n\u001b[1;32m   5273\u001b[0m                 \u001b[0;32mreturn\u001b[0m \u001b[0mself\u001b[0m\u001b[0;34m[\u001b[0m\u001b[0mname\u001b[0m\u001b[0;34m]\u001b[0m\u001b[0;34m\u001b[0m\u001b[0;34m\u001b[0m\u001b[0m\n\u001b[0;32m-> 5274\u001b[0;31m             \u001b[0;32mreturn\u001b[0m \u001b[0mobject\u001b[0m\u001b[0;34m.\u001b[0m\u001b[0m__getattribute__\u001b[0m\u001b[0;34m(\u001b[0m\u001b[0mself\u001b[0m\u001b[0;34m,\u001b[0m \u001b[0mname\u001b[0m\u001b[0;34m)\u001b[0m\u001b[0;34m\u001b[0m\u001b[0;34m\u001b[0m\u001b[0m\n\u001b[0m\u001b[1;32m   5275\u001b[0m \u001b[0;34m\u001b[0m\u001b[0m\n\u001b[1;32m   5276\u001b[0m     \u001b[0;32mdef\u001b[0m \u001b[0m__setattr__\u001b[0m\u001b[0;34m(\u001b[0m\u001b[0mself\u001b[0m\u001b[0;34m,\u001b[0m \u001b[0mname\u001b[0m\u001b[0;34m:\u001b[0m \u001b[0mstr\u001b[0m\u001b[0;34m,\u001b[0m \u001b[0mvalue\u001b[0m\u001b[0;34m)\u001b[0m \u001b[0;34m->\u001b[0m \u001b[0;32mNone\u001b[0m\u001b[0;34m:\u001b[0m\u001b[0;34m\u001b[0m\u001b[0;34m\u001b[0m\u001b[0m\n",
      "\u001b[0;31mAttributeError\u001b[0m: 'DataFrame' object has no attribute 'is_click'"
     ]
    }
   ],
   "source": [
    "from sklearn import metrics\n",
    "fpr, tpr, threshold = metrics.roc_curve(test_data.is_click, predictions)\n",
    "roc_auc = metrics.auc(fpr, tpr)"
   ]
  },
  {
   "cell_type": "code",
   "execution_count": 20,
   "metadata": {},
   "outputs": [
    {
     "data": {
      "text/plain": [
       "0.7716002183162046"
      ]
     },
     "execution_count": 20,
     "metadata": {},
     "output_type": "execute_result"
    }
   ],
   "source": [
    "roc_auc"
   ]
  },
  {
   "cell_type": "code",
   "execution_count": null,
   "metadata": {},
   "outputs": [],
   "source": []
  }
 ],
 "metadata": {
  "kernelspec": {
   "display_name": "recsys2",
   "language": "python",
   "name": "recsys2"
  },
  "language_info": {
   "codemirror_mode": {
    "name": "ipython",
    "version": 3
   },
   "file_extension": ".py",
   "mimetype": "text/x-python",
   "name": "python",
   "nbconvert_exporter": "python",
   "pygments_lexer": "ipython3",
   "version": "3.7.6"
  },
  "pycharm": {
   "stem_cell": {
    "cell_type": "raw",
    "metadata": {
     "collapsed": false
    },
    "source": []
   }
  }
 },
 "nbformat": 4,
 "nbformat_minor": 4
}
